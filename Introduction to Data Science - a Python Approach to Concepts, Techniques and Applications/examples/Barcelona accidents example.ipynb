{
 "cells": [
  {
   "cell_type": "markdown",
   "metadata": {},
   "source": [
    "# Barcelona accidents example\n",
    "Chapter 4."
   ]
  },
  {
   "cell_type": "markdown",
   "metadata": {},
   "source": [
    "Import appropriate libraries:"
   ]
  },
  {
   "cell_type": "code",
   "execution_count": 1,
   "metadata": {},
   "outputs": [],
   "source": [
    "import math\n",
    "import pandas as pd\n",
    "import numpy as np\n",
    "import seaborn as sns\n",
    "import matplotlib.pyplot as plt"
   ]
  },
  {
   "cell_type": "markdown",
   "metadata": {},
   "source": [
    "Read the dataset:"
   ]
  },
  {
   "cell_type": "code",
   "execution_count": 2,
   "metadata": {
    "scrolled": false
   },
   "outputs": [],
   "source": [
    "# read the data\n",
    "data2010 = pd.read_csv(\"ACCIDENTS_GU_BCN_2010.csv\", encoding = \"latin1\", header = 0)"
   ]
  },
  {
   "cell_type": "markdown",
   "metadata": {},
   "source": [
    "Generate `Date` variable:"
   ]
  },
  {
   "cell_type": "code",
   "execution_count": 3,
   "metadata": {},
   "outputs": [
    {
     "name": "stdout",
     "output_type": "stream",
     "text": [
      "292.1290322580645\n"
     ]
    }
   ],
   "source": [
    "data2010[\"Date\"] = data2010[u\"Dia de mes\"].apply(lambda x: str(x)) \n",
    "accidents2010 = data2010.groupby([\"Date\"]).size()\n",
    "print(accidents2010.mean())"
   ]
  },
  {
   "cell_type": "markdown",
   "metadata": {},
   "source": [
    "Generate a sampling distribution of the mean:"
   ]
  },
  {
   "cell_type": "code",
   "execution_count": 4,
   "metadata": {
    "scrolled": true
   },
   "outputs": [
    {
     "name": "stderr",
     "output_type": "stream",
     "text": [
      "/home/jlee/anaconda3/envs/jlee_python3/lib/python3.6/site-packages/ipykernel_launcher.py:13: DeprecationWarning: \n",
      ".ix is deprecated. Please use\n",
      ".loc for label based indexing or\n",
      ".iloc for positional indexing\n",
      "\n",
      "See the documentation here:\n",
      "http://pandas.pydata.org/pandas-docs/stable/indexing.html#ix-indexer-is-deprecated\n",
      "  del sys.path[0]\n"
     ]
    },
    {
     "data": {
      "image/png": "[encoded data removed]",
      "text/plain": [
       "<Figure size 432x288 with 1 Axes>"
      ]
     },
     "metadata": {},
     "output_type": "display_data"
    }
   ],
   "source": [
    "# population\n",
    "df2010 = accidents2010.to_frame()\n",
    "\n",
    "N = 1000 # times to sample\n",
    "elements = 200 # sample size\n",
    "\n",
    "# mean array of samples\n",
    "means2010 = [0] * N\n",
    "\n",
    "# generate samples\n",
    "for k in range(N):\n",
    "    rows2010 = np.random.choice(df2010.index.values, elements)\n",
    "    sampled_df2010 = df2010.ix[rows2010]\n",
    "    means2010[k] = float(sampled_df2010.mean())\n",
    "    \n",
    "# plot histogram\n",
    "n, bins, patches = plt.hist(means2010, 20, histtype = 'bar')\n",
    "plt.xlabel('Accidents')\n",
    "plt.ylabel('Count')\n",
    "plt.title('Accidents amount of accidents on a given day')\n",
    "plt.grid(True)\n",
    "plt.show()"
   ]
  },
  {
   "cell_type": "markdown",
   "metadata": {},
   "source": [
    "Find the empirical distribution of the mean:"
   ]
  },
  {
   "cell_type": "code",
   "execution_count": 5,
   "metadata": {},
   "outputs": [
    {
     "name": "stdout",
     "output_type": "stream",
     "text": [
      "Direct estimation of SE from one sample of 200 elements: 2.56299046048\n",
      "Direct estimation of SE by simulating 100 samples of 200 elements: 2.62198360208\n"
     ]
    }
   ],
   "source": [
    "# get standard deviation from one sample population\n",
    "rows2010 = np.random.choice(df2010.index.values, 200)\n",
    "sampled_df2010 = df2010.ix[rows2010]\n",
    "est_sigma_mean2010 = sampled_df2010.std()/math.sqrt(200)\n",
    "\n",
    "print(\"Direct estimation of SE from one sample of 200 elements:\", est_sigma_mean2010[0])\n",
    "print(\"Direct estimation of SE by simulating 100 samples of 200 elements:\", np.array(means2010).std())"
   ]
  },
  {
   "cell_type": "markdown",
   "metadata": {},
   "source": [
    "Find the bootstrapped distribution of the mean:"
   ]
  },
  {
   "cell_type": "code",
   "execution_count": 6,
   "metadata": {},
   "outputs": [
    {
     "name": "stdout",
     "output_type": "stream",
     "text": [
      "Mean estimate: 292.188074194\n"
     ]
    }
   ],
   "source": [
    "def meanBootstrap(X, numberb):\n",
    "    x = [0]*numberb\n",
    "    for k in range(numberb):\n",
    "        sample = [X[m] for m in np.random.randint(len(X), size = len(X))]\n",
    "        x[k] = np.mean(sample)\n",
    "    return x\n",
    "\n",
    "m2010 = meanBootstrap(accidents2010, 10000)\n",
    "print(\"Mean estimate:\", np.mean(m2010))"
   ]
  },
  {
   "cell_type": "markdown",
   "metadata": {},
   "source": [
    "Generating empirical confidence intervals:"
   ]
  },
  {
   "cell_type": "code",
   "execution_count": 7,
   "metadata": {},
   "outputs": [
    {
     "name": "stdout",
     "output_type": "stream",
     "text": [
      "confidence interval: [279.13366535667086, 305.12439915945816]\n"
     ]
    }
   ],
   "source": [
    "m2010 = accidents2010.mean()\n",
    "se2010 = accidents2010.std()/math.sqrt(len(accidents2010))\n",
    "ci2010 = [m2010 - se2010*1.96, m2010 + se2010*1.96]\n",
    "print(\"confidence interval:\", ci2010)"
   ]
  },
  {
   "cell_type": "markdown",
   "metadata": {},
   "source": [
    "Generating bootstrapped confidence intervals:"
   ]
  },
  {
   "cell_type": "code",
   "execution_count": 8,
   "metadata": {},
   "outputs": [
    {
     "name": "stdout",
     "output_type": "stream",
     "text": [
      "Mean estimate 292.083109677\n",
      "SE of the estimate: 6.47980833749\n",
      "Confidence interval: [278.16129032258067, 303.71048387096772]\n"
     ]
    }
   ],
   "source": [
    "m2010 = meanBootstrap(accidents2010, 10000)\n",
    "sample_mean2010 = np.mean(m2010)\n",
    "sample_se2010 = np.std(m2010)\n",
    "\n",
    "# get 95%\n",
    "ci2010 = [np.percentile(m2010, 2.5), np.percentile(m2010, 97.5)]\n",
    "\n",
    "print(\"Mean estimate\", sample_mean2010)\n",
    "print(\"SE of the estimate:\", sample_se2010)\n",
    "print(\"Confidence interval:\", ci2010)"
   ]
  },
  {
   "cell_type": "markdown",
   "metadata": {},
   "source": [
    "Let's compare 2010 to 2013 accident rates. First, reload both datasets for consistency:"
   ]
  },
  {
   "cell_type": "code",
   "execution_count": 9,
   "metadata": {},
   "outputs": [
    {
     "name": "stdout",
     "output_type": "stream",
     "text": [
      "2010: mean  24.81095890410959\n",
      "2013: mean  25.90958904109589\n"
     ]
    }
   ],
   "source": [
    "# 2010 data\n",
    "data2010 = pd.read_csv(\"ACCIDENTS_GU_BCN_2010.csv\", encoding = \"latin-1\")\n",
    "data2010[\"Date\"] = data2010[\"Dia de mes\"].apply(lambda x: str(x)) + \"-\" + data2010[\"Mes de any\"].apply(lambda x: str(x))\n",
    "counts2010 = data2010[\"Date\"].value_counts()\n",
    "print(\"2010: mean \", counts2010.mean())\n",
    "\n",
    "# 2013 data\n",
    "data2013 = pd.read_csv(\"ACCIDENTS_GU_BCN_2013.csv\", encoding = \"latin-1\")\n",
    "data2013[\"Date\"] = data2013[\"Dia de mes\"].apply(lambda x: str(x)) + \"-\" + data2013[\"Mes de any\"].apply(lambda x: str(x))\n",
    "counts2013 = data2013[\"Date\"].value_counts()\n",
    "print(\"2013: mean \", counts2013.mean())"
   ]
  },
  {
   "cell_type": "markdown",
   "metadata": {},
   "source": [
    "Determine the 95% CIs for each year:"
   ]
  },
  {
   "cell_type": "code",
   "execution_count": 10,
   "metadata": {},
   "outputs": [
    {
     "name": "stdout",
     "output_type": "stream",
     "text": [
      "CIs for 2010:  [23.932871944107148, 25.689045864112032]\n",
      "CIs for 2013:  [24.975156065800284, 26.844022016391499]\n"
     ]
    }
   ],
   "source": [
    "# 2010\n",
    "n2010 = len(counts2010)\n",
    "mean2010 = counts2010.mean()\n",
    "se2010 = counts2010.std()/np.sqrt(n2010)\n",
    "ci2010 = [mean2010 - se2010*1.96, mean2010 + se2010*1.96]\n",
    "\n",
    "# 2013\n",
    "n2013 = len(counts2013)\n",
    "mean2013 = counts2013.mean()\n",
    "se2013 = counts2013.std()/np.sqrt(n2013)\n",
    "ci2013 = [mean2013 - se2013*1.96, mean2013 + se2013*1.96]\n",
    "\n",
    "print(\"CIs for 2010: \", ci2010)\n",
    "print(\"CIs for 2013: \", ci2013)"
   ]
  },
  {
   "cell_type": "markdown",
   "metadata": {},
   "source": [
    "There's some substantial CI overlap, indicating that there may not be a difference between the mean accidents across both years."
   ]
  },
  {
   "cell_type": "markdown",
   "metadata": {},
   "source": [
    "Calculating significance using p-values:"
   ]
  },
  {
   "cell_type": "code",
   "execution_count": 11,
   "metadata": {},
   "outputs": [
    {
     "name": "stdout",
     "output_type": "stream",
     "text": [
      "mean 2010:  365  mean 2013:  365\n",
      "mean difference:  1.0986301369863014\n",
      "p-value simulation:  0.002 ( 0.2 %) Difference =  1.0986301369863014\n",
      "Effect is likely\n"
     ]
    }
   ],
   "source": [
    "meandiff = mean2013 - mean2010\n",
    "\n",
    "print(\"mean 2010: \", n2010, \" mean 2013: \", n2013)\n",
    "print(\"mean difference: \", meandiff)\n",
    "\n",
    "# pool the distributions\n",
    "x = counts2010\n",
    "y = counts2013\n",
    "pool = np.concatenate([x, y])\n",
    "np.random.shuffle(pool)\n",
    "\n",
    "# sample generation\n",
    "import random\n",
    "N = 1000\n",
    "diff = np.zeros((N, 1))\n",
    "for k in range(N):\n",
    "    p1 = list([random.choice(pool) for _ in range(N)])\n",
    "    p2 = list([random.choice(pool) for _ in range(N)])\n",
    "    diff[k] = (np.mean(p1) - np.mean(p2))\n",
    "    \n",
    "# counting differences larger than the observed one\n",
    "diff2 = np.array(diff)\n",
    "w1 = np.where(diff2 > meandiff)[0]\n",
    "\n",
    "print(\"p-value simulation: \", len(w1)/float(N), \"(\", len(w1)/float(N)*100, \"%)\", \"Difference = \", meandiff)\n",
    "if (len(w1)/float(N)) < 0.05:\n",
    "    print(\"Effect is likely\")\n",
    "else:\n",
    "    print(\"Effect is not likely\")"
   ]
  }
 ],
 "metadata": {
  "kernelspec": {
   "display_name": "Python 3",
   "language": "python",
   "name": "python3"
  },
  "language_info": {
   "codemirror_mode": {
    "name": "ipython",
    "version": 3
   },
   "file_extension": ".py",
   "mimetype": "text/x-python",
   "name": "python",
   "nbconvert_exporter": "python",
   "pygments_lexer": "ipython3",
   "version": "3.6.5"
  }
 },
 "nbformat": 4,
 "nbformat_minor": 2
}
