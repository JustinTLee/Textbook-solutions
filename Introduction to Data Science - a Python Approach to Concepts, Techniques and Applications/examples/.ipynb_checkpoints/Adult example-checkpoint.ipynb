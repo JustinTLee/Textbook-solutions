{
 "cells": [
  {
   "cell_type": "markdown",
   "metadata": {},
   "source": [
    "# Adult example\n",
    "Chapter 3."
   ]
  },
  {
   "cell_type": "markdown",
   "metadata": {},
   "source": [
    "Import appropriate libraries:"
   ]
  },
  {
   "cell_type": "code",
   "execution_count": 1,
   "metadata": {},
   "outputs": [],
   "source": [
    "import pandas as pd\n",
    "import numpy as np\n",
    "import seaborn as sns\n",
    "import matplotlib.pyplot as plt"
   ]
  },
  {
   "cell_type": "markdown",
   "metadata": {},
   "source": [
    "Read the dataset:"
   ]
  },
  {
   "cell_type": "code",
   "execution_count": 2,
   "metadata": {
    "scrolled": false
   },
   "outputs": [],
   "source": [
    "# read the data\n",
    "file = open('adult.data', 'r')"
   ]
  },
  {
   "cell_type": "markdown",
   "metadata": {},
   "source": [
    "Create a helper function to convert all numbers into integers:"
   ]
  },
  {
   "cell_type": "code",
   "execution_count": 3,
   "metadata": {},
   "outputs": [],
   "source": [
    "def chr_int(a):\n",
    "    if a.isdigit():\n",
    "        return int(a)\n",
    "    else:\n",
    "        return 0"
   ]
  },
  {
   "cell_type": "markdown",
   "metadata": {},
   "source": [
    "Process the data:"
   ]
  },
  {
   "cell_type": "code",
   "execution_count": 4,
   "metadata": {},
   "outputs": [],
   "source": [
    "data = []\n",
    "\n",
    "for line in file:\n",
    "    data1 = line.split(', ')\n",
    "    if len(data1) == 15:\n",
    "        # apply the function we created to all numeric values\n",
    "        data.append([chr_int(data1[0]), data1[1],\n",
    "                     chr_int(data1[2]), data1[3],\n",
    "                     chr_int(data1[4]), data1[5],\n",
    "                     data1[6], data1[7],\n",
    "                     data1[8], data1[9],\n",
    "                     chr_int(data1[10]), chr_int(data1[11]),\n",
    "                     chr_int(data1[12]), data1[13],\n",
    "                     data1[14]])"
   ]
  },
  {
   "cell_type": "markdown",
   "metadata": {},
   "source": [
    "Print the first couple of lines of the data structure to make sure everything turned out right:"
   ]
  },
  {
   "cell_type": "code",
   "execution_count": 5,
   "metadata": {},
   "outputs": [
    {
     "name": "stdout",
     "output_type": "stream",
     "text": [
      "[[39, 'State-gov', 77516, 'Bachelors', 13, 'Never-married', 'Adm-clerical', 'Not-in-family', 'White', 'Male', 2174, 0, 40, 'United-States', '<=50K\\n']]\n"
     ]
    }
   ],
   "source": [
    "print(data[0:1])"
   ]
  },
  {
   "cell_type": "markdown",
   "metadata": {},
   "source": [
    "Convert the data into a Pandas DataFrame structure:"
   ]
  },
  {
   "cell_type": "code",
   "execution_count": 6,
   "metadata": {},
   "outputs": [],
   "source": [
    "df = pd.DataFrame(data)\n",
    "\n",
    "# name columns\n",
    "df.columns = ['age', 'type_employer', 'fnlwgt', 'education',\n",
    "              'education_num', 'marital', 'occupation', 'relationship',\n",
    "              'race', 'sex', 'capital_gain', 'capital_loss',\n",
    "              'hr_per_week', 'country', 'income']"
   ]
  },
  {
   "cell_type": "markdown",
   "metadata": {},
   "source": [
    "Let's look at the DataFrame dimensions:"
   ]
  },
  {
   "cell_type": "code",
   "execution_count": 7,
   "metadata": {},
   "outputs": [
    {
     "data": {
      "text/plain": [
       "(32561, 15)"
      ]
     },
     "execution_count": 7,
     "metadata": {},
     "output_type": "execute_result"
    }
   ],
   "source": [
    "df.shape"
   ]
  },
  {
   "cell_type": "markdown",
   "metadata": {},
   "source": [
    "Count the number of items per country:"
   ]
  },
  {
   "cell_type": "code",
   "execution_count": 8,
   "metadata": {},
   "outputs": [
    {
     "name": "stdout",
     "output_type": "stream",
     "text": [
      "country\n",
      "?                               583\n",
      "Cambodia                         19\n",
      "Canada                          121\n",
      "China                            75\n",
      "Columbia                         59\n",
      "Cuba                             95\n",
      "Dominican-Republic               70\n",
      "Ecuador                          28\n",
      "El-Salvador                     106\n",
      "England                          90\n",
      "France                           29\n",
      "Germany                         137\n",
      "Greece                           29\n",
      "Guatemala                        64\n",
      "Haiti                            44\n",
      "Holand-Netherlands                1\n",
      "Honduras                         13\n",
      "Hong                             20\n",
      "Hungary                          13\n",
      "India                           100\n",
      "Iran                             43\n",
      "Ireland                          24\n",
      "Italy                            73\n",
      "Jamaica                          81\n",
      "Japan                            62\n",
      "Laos                             18\n",
      "Mexico                          643\n",
      "Nicaragua                        34\n",
      "Outlying-US(Guam-USVI-etc)       14\n",
      "Peru                             31\n",
      "Philippines                     198\n",
      "Poland                           60\n",
      "Portugal                         37\n",
      "Puerto-Rico                     114\n",
      "Scotland                         12\n",
      "South                            80\n",
      "Taiwan                           51\n",
      "Thailand                         18\n",
      "Trinadad&Tobago                  19\n",
      "United-States                 29170\n",
      "Vietnam                          67\n",
      "Yugoslavia                       16\n",
      "dtype: int64\n"
     ]
    }
   ],
   "source": [
    "counts = df.groupby('country').size()\n",
    "print(counts)"
   ]
  },
  {
   "cell_type": "markdown",
   "metadata": {},
   "source": [
    "Divide the data into two groups, males and females, both as high-income professionals:"
   ]
  },
  {
   "cell_type": "code",
   "execution_count": 9,
   "metadata": {},
   "outputs": [],
   "source": [
    "# data containing males and females\n",
    "ml = df[(df.sex == 'Male')]\n",
    "fm = df[(df.sex == 'Female')]\n",
    "\n",
    "# data containing males and females, both being high income\n",
    "ml1 = df[(df.sex == 'Male') & (df.income == '>50K\\n')]\n",
    "fm1 = df[(df.sex == 'Female') & (df.income == '>50K\\n')]"
   ]
  },
  {
   "cell_type": "markdown",
   "metadata": {
    "collapsed": true
   },
   "source": [
    "## Exploratory data analysis"
   ]
  },
  {
   "cell_type": "markdown",
   "metadata": {},
   "source": [
    "Find the proportion of high-income professionals in the data:"
   ]
  },
  {
   "cell_type": "code",
   "execution_count": 10,
   "metadata": {},
   "outputs": [
    {
     "name": "stdout",
     "output_type": "stream",
     "text": [
      "The rate of people with high income is:  24 %.\n",
      "The rate of men with high income is:  30 %.\n",
      "The rate of women with high income is:  10 %.\n"
     ]
    }
   ],
   "source": [
    "df1 = df[(df.income == \">50K\\n\")]\n",
    "\n",
    "print(\"The rate of people with high income is: \", int(len(df1)/float(len(df))*100), \"%.\")\n",
    "print(\"The rate of men with high income is: \", int(len(ml1)/float(len(ml))*100), \"%.\")\n",
    "print(\"The rate of women with high income is: \", int(len(fm1)/float(len(fm))*100), \"%.\")"
   ]
  },
  {
   "cell_type": "markdown",
   "metadata": {},
   "source": [
    "Find the sample mean of each group:"
   ]
  },
  {
   "cell_type": "code",
   "execution_count": 11,
   "metadata": {},
   "outputs": [
    {
     "name": "stdout",
     "output_type": "stream",
     "text": [
      "The average age of men is:  39\n",
      "The average age of women is:  36\n",
      "The average age of men with high income is:  44\n",
      "The average age of women with high income is:  42\n"
     ]
    }
   ],
   "source": [
    "print(\"The average age of men is: \", int(ml[\"age\"].mean()))\n",
    "print(\"The average age of women is: \", int(fm[\"age\"].mean()))\n",
    "\n",
    "print(\"The average age of men with high income is: \", int(ml1[\"age\"].mean()))\n",
    "print(\"The average age of women with high income is: \", int(fm1[\"age\"].mean()))"
   ]
  },
  {
   "cell_type": "markdown",
   "metadata": {},
   "source": [
    "Find the sample variance of each group:"
   ]
  },
  {
   "cell_type": "code",
   "execution_count": 12,
   "metadata": {},
   "outputs": [
    {
     "name": "stdout",
     "output_type": "stream",
     "text": [
      "The age variance of men is:  178.77375174530096\n",
      "The age variance of women is:  196.3837063948037\n",
      "The age variance of men with high income is:  109.94506674864817\n",
      "The age varianceof women with high income is:  109.41377041059503\n"
     ]
    }
   ],
   "source": [
    "print(\"The age variance of men is: \", ml[\"age\"].var())\n",
    "print(\"The age variance of women is: \", fm[\"age\"].var())\n",
    "\n",
    "print(\"The age variance of men with high income is: \", ml1[\"age\"].var())\n",
    "print(\"The age varianceof women with high income is: \", fm1[\"age\"].var())"
   ]
  },
  {
   "cell_type": "markdown",
   "metadata": {},
   "source": [
    "Gather summary statistics for each group:"
   ]
  },
  {
   "cell_type": "code",
   "execution_count": 13,
   "metadata": {},
   "outputs": [
    {
     "name": "stdout",
     "output_type": "stream",
     "text": [
      "Male age mean: 39.43 , var: 178.77 , std: 13.37 , median: 38.0\n",
      "Female age mean: 36.86 , var: 196.38 , std: 14.01 , median: 35.0\n",
      "High-income male age mean: 44.63 , var: 109.95 , std: 10.49 , median: 44.0\n",
      "High-income female age mean: 42.13 , var: 109.41 , std: 10.46 , median: 41.0\n"
     ]
    }
   ],
   "source": [
    "# male and female summary statistics\n",
    "ml_mu = round(ml[\"age\"].mean(), 2)\n",
    "ml_var = round(ml[\"age\"].var(), 2)\n",
    "ml_std = round(ml[\"age\"].std(), 2)\n",
    "ml_median = ml[\"age\"].median()\n",
    "\n",
    "fm_mu = round(fm[\"age\"].mean(), 2)\n",
    "fm_var = round(fm[\"age\"].var(), 2)\n",
    "fm_std = round(fm[\"age\"].std(), 2)\n",
    "fm_median = fm[\"age\"].median()\n",
    "\n",
    "print(\"Male age mean:\", ml_mu, \", var:\", ml_var, \", std:\", ml_std, \", median:\", ml_median)\n",
    "print(\"Female age mean:\", fm_mu, \", var:\", fm_var, \", std:\", fm_std, \", median:\", fm_median)\n",
    "\n",
    "# high-income male and female summary statistics\n",
    "ml1_mu = round(ml1[\"age\"].mean(), 2)\n",
    "ml1_var = round(ml1[\"age\"].var(), 2)\n",
    "ml1_std = round(ml1[\"age\"].std(), 2)\n",
    "ml1_median = ml1[\"age\"].median()\n",
    "\n",
    "fm1_mu = round(fm1[\"age\"].mean(), 2)\n",
    "fm1_var = round(fm1[\"age\"].var(), 2)\n",
    "fm1_std = round(fm1[\"age\"].std(), 2)\n",
    "fm1_median = fm1[\"age\"].median()\n",
    "\n",
    "print(\"High-income male age mean:\", ml1_mu, \", var:\", ml1_var, \", std:\", ml1_std, \", median:\", ml1_median)\n",
    "print(\"High-income female age mean:\", fm1_mu, \", var:\", fm1_var, \", std:\", fm1_std, \", median:\", fm1_median)"
   ]
  },
  {
   "cell_type": "markdown",
   "metadata": {},
   "source": [
    "Plot male vs. female age distributions as overlayed histograms:"
   ]
  },
  {
   "cell_type": "code",
   "execution_count": 14,
   "metadata": {},
   "outputs": [
    {
     "name": "stderr",
     "output_type": "stream",
     "text": [
      "/home/jlee/anaconda3/envs/jlee_python3/lib/python3.6/site-packages/matplotlib/axes/_axes.py:6462: UserWarning: The 'normed' kwarg is deprecated, and has been replaced by the 'density' kwarg.\n",
      "  warnings.warn(\"The 'normed' kwarg is deprecated, and has been \"\n"
     ]
    },
    {
     "data": {
      "text/plain": [
       "<matplotlib.axes._subplots.AxesSubplot at 0x7fb096b792b0>"
      ]
     },
     "execution_count": 14,
     "metadata": {},
     "output_type": "execute_result"
    },
    {
     "data": {
      "image/png": "[encoded data removed]",
      "text/plain": [
       "<Figure size 432x288 with 1 Axes>"
      ]
     },
     "metadata": {},
     "output_type": "display_data"
    }
   ],
   "source": [
    "# distribution of male vs. female ages\n",
    "fm[\"age\"].hist(normed = 0, histtype = \"stepfilled\", alpha = 0.5, bins = 20)\n",
    "ml[\"age\"].hist(normed = 0, histtype = \"stepfilled\", alpha = 0.5,\n",
    "               color = sns.desaturate(\"indianred\", 0.75), bins = 10)"
   ]
  },
  {
   "cell_type": "markdown",
   "metadata": {},
   "source": [
    "Plot the distributions as PMFs:"
   ]
  },
  {
   "cell_type": "code",
   "execution_count": 15,
   "metadata": {},
   "outputs": [
    {
     "name": "stderr",
     "output_type": "stream",
     "text": [
      "/home/jlee/anaconda3/envs/jlee_python3/lib/python3.6/site-packages/matplotlib/axes/_axes.py:6462: UserWarning: The 'normed' kwarg is deprecated, and has been replaced by the 'density' kwarg.\n",
      "  warnings.warn(\"The 'normed' kwarg is deprecated, and has been \"\n"
     ]
    },
    {
     "data": {
      "text/plain": [
       "<matplotlib.axes._subplots.AxesSubplot at 0x7fb096ab5940>"
      ]
     },
     "execution_count": 15,
     "metadata": {},
     "output_type": "execute_result"
    },
    {
     "data": {
      "image/png": "[encoded data removed]",
      "text/plain": [
       "<Figure size 432x288 with 1 Axes>"
      ]
     },
     "metadata": {},
     "output_type": "display_data"
    }
   ],
   "source": [
    "# distribution of male vs. female ages\n",
    "fm[\"age\"].hist(normed = 1, histtype = \"stepfilled\", alpha = 0.5, bins = 20)\n",
    "ml[\"age\"].hist(normed = 1, histtype = \"stepfilled\", alpha = 0.5,\n",
    "               color = sns.desaturate(\"indianred\", 0.75), bins = 10)"
   ]
  },
  {
   "cell_type": "markdown",
   "metadata": {},
   "source": [
    "Plot the distributions as CDFs:"
   ]
  },
  {
   "cell_type": "code",
   "execution_count": 16,
   "metadata": {},
   "outputs": [
    {
     "name": "stderr",
     "output_type": "stream",
     "text": [
      "/home/jlee/anaconda3/envs/jlee_python3/lib/python3.6/site-packages/matplotlib/axes/_axes.py:6462: UserWarning: The 'normed' kwarg is deprecated, and has been replaced by the 'density' kwarg.\n",
      "  warnings.warn(\"The 'normed' kwarg is deprecated, and has been \"\n"
     ]
    },
    {
     "data": {
      "text/plain": [
       "<matplotlib.axes._subplots.AxesSubplot at 0x7fb092d7f908>"
      ]
     },
     "execution_count": 16,
     "metadata": {},
     "output_type": "execute_result"
    },
    {
     "data": {
      "image/png": "[encoded data removed]",
      "text/plain": [
       "<Figure size 432x288 with 1 Axes>"
      ]
     },
     "metadata": {},
     "output_type": "display_data"
    }
   ],
   "source": [
    "# distribution of male vs. female ages\n",
    "fm[\"age\"].hist(normed = 1, histtype = \"step\", cumulative = True, linewidth = 3.5, bins = 20)\n",
    "ml[\"age\"].hist(normed = 1, histtype = \"step\", cumulative = True, linewidth = 3.5, bins = 20,\n",
    "               color = sns.desaturate(\"indianred\", 0.75))"
   ]
  },
  {
   "cell_type": "markdown",
   "metadata": {},
   "source": [
    "## Dealing with outliers"
   ]
  },
  {
   "cell_type": "markdown",
   "metadata": {},
   "source": [
    "We will focus the data on the median age (37) up to 72 and down to 22 years old:"
   ]
  },
  {
   "cell_type": "code",
   "execution_count": 61,
   "metadata": {},
   "outputs": [
    {
     "name": "stdout",
     "output_type": "stream",
     "text": [
      "Male mean: 44.325352326110014 , std: 10.012302742491952 , median: 44.0 , min : 22 , max: 72\n",
      "Female mean: 41.93236301369863 , std: 9.989525648849213 , median: 41.0 , min : 22 , max: 72\n"
     ]
    }
   ],
   "source": [
    "# drop all values in which:\n",
    "#  1. income is greater than 50K\n",
    "#  2. age is greater than 72\n",
    "#  3. age is less than 15\n",
    "df2 = df.drop(df.index[(df[\"age\"] > df[\"age\"].median() + 35) |\n",
    "                       (df[\"age\"] < df[\"age\"].median() - 15)])\n",
    "\n",
    "# find the median of the original age data\n",
    "median_age = df[\"age\"].median()\n",
    "\n",
    "# filter out the male data all people who are:\n",
    "#  - older than 72\n",
    "#  - younger than 22\n",
    "ml1_age = ml1[\"age\"]\n",
    "ml2_age = ml1_age.drop(ml1_age.index[(ml1_age > median_age + 35) |\n",
    "                                     (ml1_age < median_age - 15)])\n",
    "\n",
    "# filtered male summary statistics\n",
    "mu2ml = ml2_age.mean()\n",
    "std2ml = ml2_age.std()\n",
    "md2ml = ml2_age.median()\n",
    "print(\"Male mean:\", mu2ml, \", std:\", std2ml, \", median:\", md2ml, \", min :\", ml2_age.min(), \", max:\", ml2_age.max())\n",
    "\n",
    "# filter out the female data all people who are:\n",
    "#  - older than 72\n",
    "#  - younger than 22\n",
    "fm1_age = fm1[\"age\"]\n",
    "fm2_age = fm1_age.drop(fm1_age.index[(fm1_age > median_age + 35) |\n",
    "                                     (fm1_age < median_age - 15)])\n",
    "\n",
    "# filtered female summary statistics\n",
    "mu2fm = fm2_age.mean()\n",
    "std2fm = fm2_age.std()\n",
    "md2fm = fm2_age.median()\n",
    "print(\"Female mean:\", mu2fm, \", std:\", std2fm, \", median:\", md2fm, \", min :\", fm2_age.min(), \", max:\", fm2_age.max())"
   ]
  },
  {
   "cell_type": "markdown",
   "metadata": {},
   "source": [
    "See the amount of outliers removed by the data:"
   ]
  },
  {
   "cell_type": "code",
   "execution_count": 75,
   "metadata": {
    "scrolled": true
   },
   "outputs": [
    {
     "name": "stdout",
     "output_type": "stream",
     "text": [
      "The mean difference with outliers is:  2.5002579413732064\n",
      "The mean difference without outliers is:  2.3929893124113875\n"
     ]
    },
    {
     "data": {
      "image/png": "[encoded data removed]",
      "text/plain": [
       "<Figure size 964.8x360 with 1 Axes>"
      ]
     },
     "metadata": {},
     "output_type": "display_data"
    }
   ],
   "source": [
    "# create a new figure\n",
    "plt.figure(figsize = (13.4, 5))\n",
    "\n",
    "# plot ages from the original data by income\n",
    "df.age[(df.income == \">50K\\n\")].plot(alpha = 0.25, color = \"blue\")\n",
    "\n",
    "# plot ages from the new data by income\n",
    "# should cut off with a min of 22 and a max of 72\n",
    "df2.age[(df2.income == \">50K\\n\")].plot(alpha = 0.45, color = \"red\")\n",
    "plt.xlabel(\"Samples\")\n",
    "plt.ylabel(\"Age\")\n",
    "\n",
    "# calculate the mean difference including outliers\n",
    "print(\"The mean difference with outliers is: \", (ml1_age.mean() - fm1_age.mean()))\n",
    "\n",
    "# calculate the mean difference without outliers\n",
    "print(\"The mean difference without outliers is: \", (ml2_age.mean() - fm2_age.mean()))"
   ]
  },
  {
   "cell_type": "markdown",
   "metadata": {},
   "source": [
    "Show the differences between men and women in the filtered dataset:"
   ]
  },
  {
   "cell_type": "code",
   "execution_count": 74,
   "metadata": {},
   "outputs": [
    {
     "data": {
      "text/plain": [
       "Text(0,0.5,'Difference')"
      ]
     },
     "execution_count": 74,
     "metadata": {},
     "output_type": "execute_result"
    },
    {
     "data": {
      "image/png": "[encoded data removed]",
      "text/plain": [
       "<Figure size 432x288 with 1 Axes>"
      ]
     },
     "metadata": {},
     "output_type": "display_data"
    }
   ],
   "source": [
    "# get histogram bin counts from males\n",
    "countx, divisionx = np.histogram(ml2_age, normed = True)\n",
    "\n",
    "# get histogram bin counts from females\n",
    "county, divisiony = np.histogram(fm2_age, normed = True)\n",
    "\n",
    "# plot difference between genders at every bin midpoint\n",
    "val = [(divisionx[k] + divisionx[k + 1])/2 for k in range(len(divisionx) - 1)]\n",
    "plt.plot(val, countx - county, 'o--')\n",
    "plt.title(\"Differences in promoting men vs. women\")\n",
    "plt.xlabel(\"Age\")\n",
    "plt.ylabel(\"Difference\")"
   ]
  },
  {
   "cell_type": "markdown",
   "metadata": {},
   "source": [
    "## Measuring assymmetry"
   ]
  },
  {
   "cell_type": "markdown",
   "metadata": {},
   "source": [
    "Skewness measures the assymetry of the sample distirbution. The following function calculates skewness:"
   ]
  },
  {
   "cell_type": "code",
   "execution_count": 77,
   "metadata": {},
   "outputs": [],
   "source": [
    "def skewness(x):\n",
    "    res = 0\n",
    "    m = x.mean()\n",
    "    s = x.std()\n",
    "    for k in x:\n",
    "        res += (k - m) ** 3  # distance from mean cubed\n",
    "    res /= (len(x) * s ** 3) # standard deviation cubed\n",
    "    return res"
   ]
  },
  {
   "cell_type": "markdown",
   "metadata": {},
   "source": [
    "Find the skewness on both genders in the filtered dataset:"
   ]
  },
  {
   "cell_type": "code",
   "execution_count": 78,
   "metadata": {},
   "outputs": [
    {
     "name": "stdout",
     "output_type": "stream",
     "text": [
      "Male population skewness =  0.26927674749980385\n",
      "Female population skewness =  0.4021179824911583\n"
     ]
    }
   ],
   "source": [
    "# males\n",
    "print(\"Male population skewness = \", skewness(ml2_age))\n",
    "\n",
    "# females\n",
    "print(\"Female population skewness = \", skewness(fm2_age))"
   ]
  },
  {
   "cell_type": "markdown",
   "metadata": {},
   "source": [
    "Pearson's median skewness coefficient is more robust. The following is the code for the formula:"
   ]
  },
  {
   "cell_type": "code",
   "execution_count": 79,
   "metadata": {},
   "outputs": [],
   "source": [
    "def pearson(x):\n",
    "    return 3*(x.mean() - x.median())*x.std()"
   ]
  },
  {
   "cell_type": "markdown",
   "metadata": {},
   "source": [
    "Find the skewness on both genders in the filtered dataset:"
   ]
  },
  {
   "cell_type": "code",
   "execution_count": 80,
   "metadata": {},
   "outputs": [
    {
     "name": "stdout",
     "output_type": "stream",
     "text": [
      "Male population Pearson skewness =  9.772577960962293\n",
      "Female population Pearson skewness =  27.941592718142346\n"
     ]
    }
   ],
   "source": [
    "# males\n",
    "print(\"Male population Pearson skewness = \", pearson(ml2_age))\n",
    "\n",
    "# females\n",
    "print(\"Female population Pearson skewness = \", pearson(fm2_age))"
   ]
  }
 ],
 "metadata": {
  "kernelspec": {
   "display_name": "Python 3",
   "language": "python",
   "name": "python3"
  },
  "language_info": {
   "codemirror_mode": {
    "name": "ipython",
    "version": 3
   },
   "file_extension": ".py",
   "mimetype": "text/x-python",
   "name": "python",
   "nbconvert_exporter": "python",
   "pygments_lexer": "ipython3",
   "version": "3.6.5"
  }
 },
 "nbformat": 4,
 "nbformat_minor": 2
}
