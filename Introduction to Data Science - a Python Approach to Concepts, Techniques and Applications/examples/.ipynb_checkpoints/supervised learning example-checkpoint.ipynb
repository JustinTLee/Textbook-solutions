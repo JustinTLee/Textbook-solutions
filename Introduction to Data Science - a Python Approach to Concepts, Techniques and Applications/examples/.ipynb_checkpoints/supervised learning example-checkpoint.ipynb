{
 "cells": [
  {
   "cell_type": "markdown",
   "metadata": {},
   "source": [
    "# Supervised learning example\n",
    "Chapter 5."
   ]
  },
  {
   "cell_type": "markdown",
   "metadata": {},
   "source": [
    "Import appropriate libraries:"
   ]
  },
  {
   "cell_type": "code",
   "execution_count": 1,
   "metadata": {},
   "outputs": [],
   "source": [
    "import pandas as pd\n",
    "import numpy as np\n",
    "import seaborn as sns\n",
    "import matplotlib.pyplot as plt\n",
    "import pickle\n",
    "from sklearn import neighbors\n",
    "from sklearn import datasets"
   ]
  },
  {
   "cell_type": "markdown",
   "metadata": {},
   "source": [
    "Import the data:"
   ]
  },
  {
   "cell_type": "code",
   "execution_count": 2,
   "metadata": {},
   "outputs": [],
   "source": [
    "ofname = open(\"dataset_small.pkl\", \"rb\")\n",
    "\n",
    "# restructures dataset so that x is input and y is target\n",
    "(x, y) = pickle.load(ofname, encoding='latin1')"
   ]
  },
  {
   "cell_type": "markdown",
   "metadata": {},
   "source": [
    "Check number of features:"
   ]
  },
  {
   "cell_type": "code",
   "execution_count": 3,
   "metadata": {},
   "outputs": [
    {
     "name": "stdout",
     "output_type": "stream",
     "text": [
      "dims:  15 , samples:  4140\n"
     ]
    }
   ],
   "source": [
    "dims = x.shape[1]\n",
    "N = x.shape[0]\n",
    "print(\"dims: \", str(dims), \", samples: \", str(N))"
   ]
  },
  {
   "cell_type": "markdown",
   "metadata": {},
   "source": [
    "Run k-nearest neighbors classifier:"
   ]
  },
  {
   "cell_type": "code",
   "execution_count": 4,
   "metadata": {},
   "outputs": [
    {
     "name": "stdout",
     "output_type": "stream",
     "text": [
      "Predicted value:  -1.0 , real target:  -1.0\n"
     ]
    },
    {
     "data": {
      "text/plain": [
       "0.83164251207729467"
      ]
     },
     "execution_count": 4,
     "metadata": {},
     "output_type": "execute_result"
    }
   ],
   "source": [
    "# create instance of knn classifier\n",
    "knn = neighbors.KNeighborsClassifier(n_neighbors = 11)\n",
    "# train the classifier\n",
    "knn.fit(x, y)\n",
    "# compute prediction according to model\n",
    "yhat = knn.predict(x)\n",
    "\n",
    "# check results\n",
    "print(\"Predicted value: \", str(yhat[-1]), \", real target: \", str(y[-1]))\n",
    "\n",
    "# accuracy\n",
    "knn.score(x, y)"
   ]
  },
  {
   "cell_type": "markdown",
   "metadata": {},
   "source": [
    "Checking for class imbalance:"
   ]
  },
  {
   "cell_type": "code",
   "execution_count": 5,
   "metadata": {},
   "outputs": [
    {
     "data": {
      "image/png": "[encoded data removed]",
      "text/plain": [
       "<Figure size 504x504 with 1 Axes>"
      ]
     },
     "metadata": {},
     "output_type": "display_data"
    }
   ],
   "source": [
    "plt.pie(np.c_[np.sum(np.where(y == 1, 1, 0)), np.sum(np.where(y == -1, 1, 0))][0], labels = [\"Not fully funded\", \"Full amount\"], colors = [\"r\", \"g\"], shadow = False, autopct = \"%.2f\")\n",
    "plt.gcf().set_size_inches((7, 7))"
   ]
  },
  {
   "cell_type": "markdown",
   "metadata": {},
   "source": [
    "Compute confusion matrix:"
   ]
  },
  {
   "cell_type": "code",
   "execution_count": 6,
   "metadata": {},
   "outputs": [
    {
     "data": {
      "text/plain": [
       "array([[3370,  690],\n",
       "       [   7,   73]])"
      ]
     },
     "execution_count": 6,
     "metadata": {},
     "output_type": "execute_result"
    }
   ],
   "source": [
    "from sklearn import metrics\n",
    "metrics.confusion_matrix(yhat, y)"
   ]
  },
  {
   "cell_type": "markdown",
   "metadata": {},
   "source": [
    "Compare this to a kNN with the number of neighbors equal to 1:"
   ]
  },
  {
   "cell_type": "code",
   "execution_count": 7,
   "metadata": {},
   "outputs": [
    {
     "name": "stdout",
     "output_type": "stream",
     "text": [
      "Classification accuracy:  1.0\n",
      "Confusion matrix: \n",
      " [[3377    0]\n",
      " [   0  763]]\n"
     ]
    }
   ],
   "source": [
    "knn = neighbors.KNeighborsClassifier(n_neighbors = 1)\n",
    "knn.fit(x, y)\n",
    "yhat = knn.predict(x)\n",
    "\n",
    "print(\"Classification accuracy: \", str(metrics.accuracy_score(yhat, y)))\n",
    "print(\"Confusion matrix: \\n\", str(metrics.confusion_matrix(yhat, y)))"
   ]
  },
  {
   "cell_type": "markdown",
   "metadata": {},
   "source": [
    "This creates a perfect score, but is likely overfitting."
   ]
  },
  {
   "cell_type": "markdown",
   "metadata": {},
   "source": [
    "Try splitting the data up into training and testing datasets:"
   ]
  },
  {
   "cell_type": "code",
   "execution_count": 8,
   "metadata": {},
   "outputs": [
    {
     "name": "stdout",
     "output_type": "stream",
     "text": [
      "Training shape:  (2898, 15) , training targets shape: (2898,)\n",
      "Testing shape:  (1242, 15) , testing targets shape: (1242,)\n"
     ]
    }
   ],
   "source": [
    "perm = np.random.permutation(y.size)\n",
    "PRC = 0.7\n",
    "split_point = int(np.ceil(y.shape[0]*PRC))\n",
    "\n",
    "x_train = x[perm[:split_point].ravel(), :]\n",
    "y_train = y[perm[:split_point].ravel()]\n",
    "\n",
    "x_test = x[perm[split_point:].ravel(), :]\n",
    "y_test = y[perm[split_point:].ravel()]\n",
    "\n",
    "print(\"Training shape: \", str(np.shape(x_train)), \", training targets shape:\", str(np.shape(y_train)))\n",
    "print(\"Testing shape: \", str(np.shape(x_test)), \", testing targets shape:\", str(np.shape(y_test)))"
   ]
  },
  {
   "cell_type": "markdown",
   "metadata": {},
   "source": [
    "Test on a kNN with 1 neighbor:"
   ]
  },
  {
   "cell_type": "code",
   "execution_count": 9,
   "metadata": {},
   "outputs": [
    {
     "name": "stdout",
     "output_type": "stream",
     "text": [
      "\n",
      " TRAINING STATS:\n",
      "Classification accuracy:  1.0\n",
      "Confusion matrix: \n",
      " [[2380    0]\n",
      " [   0  518]]\n",
      "\n",
      " TESTING STATS:\n",
      "Classification accuracy:  0.744766505636\n",
      "Confusion matrix: \n",
      " [[849 169]\n",
      " [148  76]]\n"
     ]
    }
   ],
   "source": [
    "# Train classifier on training data\n",
    "knn1 = neighbors.KNeighborsClassifier(n_neighbors = 1)\n",
    "knn.fit(x_train, y_train)\n",
    "yhat = knn.predict(x_train)\n",
    "\n",
    "print(\"\\n TRAINING STATS:\")\n",
    "print(\"Classification accuracy: \", str(metrics.accuracy_score(yhat, y_train)))\n",
    "print(\"Confusion matrix: \\n\", str(metrics.confusion_matrix(yhat, y_train)))\n",
    "\n",
    "# Train classifier on training data\n",
    "knn1 = neighbors.KNeighborsClassifier(n_neighbors = 1)\n",
    "yhat = knn.predict(x_test)\n",
    "\n",
    "print(\"\\n TESTING STATS:\")\n",
    "print(\"Classification accuracy: \", str(metrics.accuracy_score(yhat, y_test)))\n",
    "print(\"Confusion matrix: \\n\", str(metrics.confusion_matrix(yhat, y_test)))"
   ]
  },
  {
   "cell_type": "markdown",
   "metadata": {},
   "source": [
    "The 1 neighbor model clearly overfits the original training data and cannot respond well to new inputs."
   ]
  },
  {
   "cell_type": "markdown",
   "metadata": {},
   "source": [
    "We will randomly split the dataset and train a classifier over many times and average the performances in order to approximate the test error:"
   ]
  },
  {
   "cell_type": "code",
   "execution_count": 10,
   "metadata": {},
   "outputs": [
    {
     "name": "stdout",
     "output_type": "stream",
     "text": [
      "Mean expected error:  0.752979066023\n"
     ]
    },
    {
     "name": "stderr",
     "output_type": "stream",
     "text": [
      "/home/jlee/anaconda3/envs/jlee_python3/lib/python3.6/site-packages/sklearn/cross_validation.py:41: DeprecationWarning: This module was deprecated in version 0.18 in favor of the model_selection module into which all the refactored classes and functions are moved. Also note that the interface of the new CV iterators are different from that of this module. This module will be removed in 0.20.\n",
      "  \"This module will be removed in 0.20.\", DeprecationWarning)\n"
     ]
    }
   ],
   "source": [
    "# splitting done by using the tools provided by sklearn:\n",
    "from sklearn.cross_validation import train_test_split\n",
    "\n",
    "PRC = 0.3\n",
    "acc = np.zeros((10,))\n",
    "\n",
    "for k in range(10):\n",
    "    x_train, x_test, y_train, y_test = train_test_split(x, y, test_size = PRC)\n",
    "    knn1 = neighbors.KNeighborsClassifier(n_neighbors = 1)\n",
    "    knn.fit(x_train, y_train)\n",
    "    yhat = knn.predict(x_test)\n",
    "    acc[k] = metrics.accuracy_score(yhat, y_test)\n",
    "\n",
    "acc.shape = (1, 10)\n",
    "print(\"Mean expected error: \", str(np.mean(acc[0])))"
   ]
  },
  {
   "cell_type": "markdown",
   "metadata": {},
   "source": [
    "We will now use two different classifiers (a decision tree and SVM) in order to perform model selection:"
   ]
  },
  {
   "cell_type": "code",
   "execution_count": 11,
   "metadata": {},
   "outputs": [
    {
     "data": {
      "image/png": "[encoded data removed]",
      "text/plain": [
       "<Figure size 432x288 with 1 Axes>"
      ]
     },
     "metadata": {},
     "output_type": "display_data"
    }
   ],
   "source": [
    "from sklearn import tree\n",
    "from sklearn import svm\n",
    "\n",
    "PRC = 0.1\n",
    "acc_r = np.zeros((10, 4))\n",
    "\n",
    "for k in range(10):\n",
    "    x_train, x_test, y_train, y_test = train_test_split(x, y, test_size = PRC)\n",
    "    nn1 = neighbors.KNeighborsClassifier(n_neighbors = 1)\n",
    "    nn3 = neighbors.KNeighborsClassifier(n_neighbors = 3)\n",
    "    svc = svm.SVC()\n",
    "    dt = tree.DecisionTreeClassifier()\n",
    "    \n",
    "    nn1.fit(x_train, y_train)\n",
    "    nn3.fit(x_train, y_train)\n",
    "    svc.fit(x_train, y_train)\n",
    "    dt.fit(x_train, y_train)\n",
    "    \n",
    "    yhat_nn1 = nn1.predict(x_test)\n",
    "    yhat_nn3 = nn3.predict(x_test)\n",
    "    yhat_svc = svc.predict(x_test)\n",
    "    yhat_dt = dt.predict(x_test)\n",
    "    \n",
    "    acc_r[k][0] = metrics.accuracy_score(yhat_nn1, y_test)\n",
    "    acc_r[k][1] = metrics.accuracy_score(yhat_nn3, y_test)\n",
    "    acc_r[k][2] = metrics.accuracy_score(yhat_svc, y_test)\n",
    "    acc_r[k][3] = metrics.accuracy_score(yhat_dt, y_test)\n",
    "    \n",
    "plt.boxplot(acc_r, labels = {\"1-kNN\", \"3-kNN\", \"SVM\", \"DT\"})\n",
    "plt.xlabel(\"Model\")\n",
    "plt.ylabel(\"Accuracy\")\n",
    "plt.show()"
   ]
  },
  {
   "cell_type": "markdown",
   "metadata": {},
   "source": [
    "Perform cross-validation of a decision tree:"
   ]
  },
  {
   "cell_type": "code",
   "execution_count": 12,
   "metadata": {},
   "outputs": [
    {
     "data": {
      "image/png": "[encoded data removed]",
      "text/plain": [
       "<Figure size 432x288 with 1 Axes>"
      ]
     },
     "metadata": {},
     "output_type": "display_data"
    }
   ],
   "source": [
    "from sklearn import cross_validation\n",
    "\n",
    "# create 10-fold CV set\n",
    "kf = cross_validation.KFold(n = y.shape[0], n_folds = 10, shuffle = True, random_state = 0)\n",
    "\n",
    "# search for parameter among the following\n",
    "C = np.arange(2, 20,)\n",
    "\n",
    "acc = np.zeros((10, 18))\n",
    "k = 0\n",
    "for train_index, val_index in kf:\n",
    "    x_train, x_val = x[train_index], x[val_index]\n",
    "    y_train, y_val = y[train_index], y[val_index]\n",
    "    \n",
    "    m = 0\n",
    "    \n",
    "    # fit a tree for each maximum depth\n",
    "    for c in C:\n",
    "        dt = tree.DecisionTreeClassifier(min_samples_leaf = 1, max_depth = c)\n",
    "        dt.fit(x_train, y_train)\n",
    "        yhat = dt.predict(x_val)\n",
    "        acc[k][m] = metrics.accuracy_score(yhat, y_val)\n",
    "        m = m + 1\n",
    "    k = k + 1\n",
    "    \n",
    "# plot accuracy\n",
    "plt.boxplot(acc, labels = list(range(1, 19)))\n",
    "plt.xlabel(\"Complexity\")\n",
    "plt.ylabel(\"Accuracy\")\n",
    "plt.show()"
   ]
  },
  {
   "cell_type": "markdown",
   "metadata": {},
   "source": [
    "The best model could be with a maximum depth of 6. To confirm this, we will use test data:"
   ]
  },
  {
   "cell_type": "code",
   "execution_count": 13,
   "metadata": {},
   "outputs": [
    {
     "name": "stdout",
     "output_type": "stream",
     "text": [
      "Mean accuracy:  [ 0.77386252  0.77416463  0.77627398  0.77869363  0.78261839  0.7814072\n",
      "  0.78140629  0.77808485  0.77416281  0.77174408  0.7617843   0.76088341\n",
      "  0.75000819  0.74579132  0.73852965  0.7376233   0.73672424  0.73671696]\n",
      "Selected model index:  4\n"
     ]
    },
    {
     "data": {
      "image/png": "[encoded data removed]",
      "text/plain": [
       "<Figure size 432x288 with 1 Axes>"
      ]
     },
     "metadata": {},
     "output_type": "display_data"
    },
    {
     "name": "stdout",
     "output_type": "stream",
     "text": [
      "Test accuracy:  0.82729468599\n"
     ]
    }
   ],
   "source": [
    "# split the data into training and test\n",
    "x_train, x_test, y_train, y_test = cross_validation.train_test_split(x, y, test_size = 0.20)\n",
    "\n",
    "# create a 10-fold CV set\n",
    "kf = cross_validation.KFold(n = y_train.shape[0], n_folds = 10, shuffle = True, random_state = 0)\n",
    "\n",
    "# search the parameter space among the following\n",
    "C = np.arange(2, 20,)\n",
    "\n",
    "acc = np.zeros((10, 18))\n",
    "k = 0\n",
    "for train_index, val_index in kf:\n",
    "    x_train_cv, x_val = x[train_index], x[val_index]\n",
    "    y_train_cv, y_val = y[train_index], y[val_index]\n",
    "    \n",
    "    m = 0\n",
    "    \n",
    "    # fit a tree for each maximum depth\n",
    "    for c in C:\n",
    "        dt = tree.DecisionTreeClassifier(min_samples_leaf = 1, max_depth = c)\n",
    "        dt.fit(x_train_cv, y_train_cv)\n",
    "        yhat = dt.predict(x_val)\n",
    "        acc[k][m] = metrics.accuracy_score(yhat, y_val)\n",
    "        m = m + 1\n",
    "    k = k + 1\n",
    "    \n",
    "print(\"Mean accuracy: \", str(np.mean(acc, axis = 0)))\n",
    "print(\"Selected model index: \", str(np.argmax(np.mean(acc, axis = 0))))\n",
    "    \n",
    "# plot accuracy\n",
    "plt.boxplot(acc, labels = list(range(1, 19)))\n",
    "plt.xlabel(\"Complexity\")\n",
    "plt.ylabel(\"Accuracy\")\n",
    "plt.show()\n",
    "\n",
    "# Train the model with the complete training set with the selected complexity\n",
    "dt = tree.DecisionTreeClassifier(min_samples_leaf = 1, max_depth = C[np.argmax(np.mean(acc, axis = 0))])\n",
    "dt.fit(x_train, y_train)\n",
    "\n",
    "yhat = dt.predict(x_test)\n",
    "print(\"Test accuracy: \", str(metrics.accuracy_score(yhat, y_test)))"
   ]
  },
  {
   "cell_type": "markdown",
   "metadata": {},
   "source": [
    "Train the complete dataset:"
   ]
  },
  {
   "cell_type": "code",
   "execution_count": 14,
   "metadata": {},
   "outputs": [
    {
     "name": "stdout",
     "output_type": "stream",
     "text": [
      "<class 'numpy.ndarray'>\n",
      "Test accuracy:  0.852415458937\n"
     ]
    }
   ],
   "source": [
    "# Train the final model\n",
    "print(type(y))\n",
    "dt = tree.DecisionTreeClassifier(min_samples_leaf = 1, max_depth = C[np.argmax(np.mean(acc, axis = 0))])\n",
    "dt.fit(x, y)\n",
    "yhat = dt.predict(x)\n",
    "\n",
    "print(\"Test accuracy: \", str(metrics.accuracy_score(yhat, y)))"
   ]
  },
  {
   "cell_type": "markdown",
   "metadata": {},
   "source": [
    "We will select between SVM and random forest using nested CV. To accomplish this, we will perform a grid search of the parameter space:"
   ]
  },
  {
   "cell_type": "code",
   "execution_count": null,
   "metadata": {},
   "outputs": [
    {
     "name": "stderr",
     "output_type": "stream",
     "text": [
      "/home/jlee/anaconda3/envs/jlee_python3/lib/python3.6/site-packages/sklearn/grid_search.py:42: DeprecationWarning: This module was deprecated in version 0.18 in favor of the model_selection module into which all the refactored classes and functions are moved. This module will be removed in 0.20.\n",
      "  DeprecationWarning)\n"
     ]
    }
   ],
   "source": [
    "parameters = {\"C\": [1e4, 1e5, 1e6], \"gamma\": [1e-5, 1e-4, 1e-3]}\n",
    "N_folds = 5\n",
    "\n",
    "kf = cross_validation.KFold(n = y.shape[0], n_folds = N_folds, shuffle = True, random_state = 0)\n",
    "\n",
    "acc = np.zeros((N_folds,))\n",
    "k = 0\n",
    "\n",
    "from sklearn.preprocessing import StandardScaler\n",
    "from sklearn import grid_search\n",
    "\n",
    "# build predicted y from partial predictions on the test of each fold\n",
    "yhat = y.copy()\n",
    "for train_index, test_index in kf:\n",
    "    x_train, x_test = x[train_index, :], x[test_index, :]\n",
    "    y_train, y_test = y[train_index], y[test_index]\n",
    "    scaler = StandardScaler()\n",
    "    x_train = scaler.fit_transform(x_train)\n",
    "    clf = svm.SVC(kernel = \"rbf\")\n",
    "    clf = grid_search.GridSearchCV(clf, parameters, cv = 3)\n",
    "    clf.fit(x_train, y_train.ravel())\n",
    "    x_test = scaler.transform(x_test)\n",
    "    yhat[test_index] = clf.predict(x_test)\n",
    "    \n",
    "print(str(metrics.accuracy_score(yhat, y)))\n",
    "print(str(metrics.confusion_matrix(yhat, y)))"
   ]
  }
 ],
 "metadata": {
  "kernelspec": {
   "display_name": "Python 3",
   "language": "python",
   "name": "python3"
  },
  "language_info": {
   "codemirror_mode": {
    "name": "ipython",
    "version": 3
   },
   "file_extension": ".py",
   "mimetype": "text/x-python",
   "name": "python",
   "nbconvert_exporter": "python",
   "pygments_lexer": "ipython3",
   "version": "3.6.5"
  }
 },
 "nbformat": 4,
 "nbformat_minor": 2
}
