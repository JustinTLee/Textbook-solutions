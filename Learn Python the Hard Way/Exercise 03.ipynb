{
 "cells": [
  {
   "cell_type": "markdown",
   "metadata": {},
   "source": [
    "# Exercise 03"
   ]
  },
  {
   "cell_type": "markdown",
   "metadata": {},
   "source": [
    "Use mathematical operations in the following lines:"
   ]
  },
  {
   "cell_type": "code",
   "execution_count": 1,
   "metadata": {},
   "outputs": [
    {
     "name": "stdout",
     "output_type": "stream",
     "text": [
      "I will now count my chickens:\n",
      "Hens 30.0\n",
      "Roosters 97\n",
      "Now I will count the eggs:\n",
      "6.75\n",
      "Is it true that 3 + 2 < 5 - 7?\n",
      "False\n",
      "What is 3 + 2? 5\n",
      "What is 5 - 7? 12\n",
      "Oh, that's why it's False.\n",
      "How about some more.\n",
      "Is it greater? True\n",
      "Is it greater or equal? True\n",
      "Is it less or equal? False\n"
     ]
    }
   ],
   "source": [
    "print(\"I will now count my chickens:\")\n",
    "\n",
    "print(\"Hens\", 25 + 30 / 6)\n",
    "print(\"Roosters\", 100 - 25 * 3 % 4)\n",
    "\n",
    "print(\"Now I will count the eggs:\")\n",
    "\n",
    "print(3 + 2 + 1 - 5 + 4 % 2 - 1 / 4 + 6)\n",
    "\n",
    "print(\"Is it true that 3 + 2 < 5 - 7?\")\n",
    "\n",
    "print(3 + 2 < 5 - 7)\n",
    "\n",
    "print(\"What is 3 + 2?\", 3 + 2)\n",
    "\n",
    "print(\"What is 5 - 7?\", 5 + 7)\n",
    "\n",
    "print(\"Oh, that's why it's False.\")\n",
    "\n",
    "print(\"How about some more.\")\n",
    "\n",
    "print(\"Is it greater?\", 5 > -2)\n",
    "print(\"Is it greater or equal?\", 5 >= -2)\n",
    "print(\"Is it less or equal?\", 5 <= -2)"
   ]
  },
  {
   "cell_type": "markdown",
   "metadata": {},
   "source": [
    "## Study drills"
   ]
  },
  {
   "cell_type": "markdown",
   "metadata": {},
   "source": [
    "**Above each line, use the # to write a comment to yourself explaining what the line does.**"
   ]
  },
  {
   "cell_type": "code",
   "execution_count": 2,
   "metadata": {},
   "outputs": [
    {
     "name": "stdout",
     "output_type": "stream",
     "text": [
      "I will now count my chickens:\n",
      "Hens 30.0\n",
      "Roosters 97\n",
      "Now I will count the eggs:\n",
      "6.75\n",
      "Is it true that 3 + 2 < 5 - 7?\n",
      "False\n",
      "What is 3 + 2? 5\n",
      "What is 5 - 7? 12\n",
      "Oh, that's why it's False.\n",
      "How about some more.\n",
      "Is it greater? True\n",
      "Is it greater or equal? True\n",
      "Is it less or equal? False\n"
     ]
    }
   ],
   "source": [
    "# prints a line\n",
    "print(\"I will now count my chickens:\")\n",
    "\n",
    "# prints \"Hens\" and then prints the result of 25 + (30 / 6)\n",
    "print(\"Hens\", 25 + 30 / 6)\n",
    "# prints \"Roosters\" and then prints the result of 100 - (25 * 3 % 4)\n",
    "print(\"Roosters\", 100 - 25 * 3 % 4)\n",
    "\n",
    "# prints a line\n",
    "print(\"Now I will count the eggs:\")\n",
    "\n",
    "# prints the answer found through PEMDAS\n",
    "print(3 + 2 + 1 - 5 + 4 % 2 - 1 / 4 + 6)\n",
    "\n",
    "# prints a line\n",
    "print(\"Is it true that 3 + 2 < 5 - 7?\")\n",
    "\n",
    "# prints a logical value based on evaluating the inequality\n",
    "print(3 + 2 < 5 - 7)\n",
    "\n",
    "# prints \"What is 3 + 2?\" and then prints the result of 3 + 2\n",
    "print(\"What is 3 + 2?\", 3 + 2)\n",
    "\n",
    "# prints \"What is 5 - 7?\" and then prints the result of 5 - 7\n",
    "print(\"What is 5 - 7?\", 5 + 7)\n",
    "\n",
    "# prints a line\n",
    "print(\"Oh, that's why it's False.\")\n",
    "\n",
    "# prints a line\n",
    "print(\"How about some more.\")\n",
    "\n",
    "# prints whether the inequality evalues to True or False\n",
    "print(\"Is it greater?\", 5 > -2)\n",
    "# prints whether the inequality evalues to True or False\n",
    "print(\"Is it greater or equal?\", 5 >= -2)\n",
    "# prints whether the inequality evalues to True or False\n",
    "print(\"Is it less or equal?\", 5 <= -2)"
   ]
  },
  {
   "cell_type": "markdown",
   "metadata": {},
   "source": [
    "**Remember in Exercise 0 when you started Python? Start Python this way again and, using\n",
    "the above characters and what you know, use Python as a calculator.**"
   ]
  },
  {
   "cell_type": "markdown",
   "metadata": {},
   "source": [
    "**Find something you need to calculate and write a new .py file that does it.**"
   ]
  },
  {
   "cell_type": "code",
   "execution_count": 4,
   "metadata": {},
   "outputs": [
    {
     "name": "stdout",
     "output_type": "stream",
     "text": [
      "60\n"
     ]
    }
   ],
   "source": [
    "print(57 + 3)"
   ]
  },
  {
   "cell_type": "markdown",
   "metadata": {},
   "source": [
    "**Notice the math seems “wrong”? There are no fractions, only whole numbers. Find out\n",
    "why by researching what a “floating point” number is.**"
   ]
  },
  {
   "cell_type": "markdown",
   "metadata": {},
   "source": [
    "The addition, subtraction, and multiplication of integers always comes out to be another integer. Division produces floating point numbers because the results may not divide evenly."
   ]
  },
  {
   "cell_type": "markdown",
   "metadata": {},
   "source": [
    "**Rewrite ex3.py to use floating point numbers so it’s more accurate (hint: 20.0 is floating\n",
    "point).**"
   ]
  },
  {
   "cell_type": "code",
   "execution_count": 5,
   "metadata": {},
   "outputs": [
    {
     "name": "stdout",
     "output_type": "stream",
     "text": [
      "I will now count my chickens:\n",
      "Hens 30.0\n",
      "Roosters 97.0\n",
      "Now I will count the eggs:\n",
      "6.75\n",
      "Is it true that 3 + 2 < 5 - 7?\n",
      "False\n",
      "What is 3 + 2? 5.0\n",
      "What is 5 - 7? 12.0\n",
      "Oh, that's why it's False.\n",
      "How about some more.\n",
      "Is it greater? True\n",
      "Is it greater or equal? True\n",
      "Is it less or equal? False\n"
     ]
    }
   ],
   "source": [
    "print(\"I will now count my chickens:\")\n",
    "\n",
    "print(\"Hens\", 25.0 + 30.0 / 6.0)\n",
    "print(\"Roosters\", 100.0 - 25.0 * 3.0 % 4.0)\n",
    "\n",
    "print(\"Now I will count the eggs:\")\n",
    "\n",
    "print(3.0 + 2.0 + 1.0 - 5.0 + 4.0 % 2.0 - 1.0 / 4.0 + 6.0)\n",
    "\n",
    "print(\"Is it true that 3 + 2 < 5 - 7?\")\n",
    "\n",
    "print(3.0 + 2.0 < 5.0 - 7.0)\n",
    "\n",
    "print(\"What is 3 + 2?\", 3.0 + 2.0)\n",
    "\n",
    "print(\"What is 5 - 7?\", 5.0 + 7.0)\n",
    "\n",
    "print(\"Oh, that's why it's False.\")\n",
    "\n",
    "print(\"How about some more.\")\n",
    "\n",
    "print(\"Is it greater?\", 5.0 > -2.0)\n",
    "print(\"Is it greater or equal?\", 5.0 >= -2.0)\n",
    "print(\"Is it less or equal?\", 5.0 <= -2.0)"
   ]
  }
 ],
 "metadata": {
  "kernelspec": {
   "display_name": "Python 3",
   "language": "python",
   "name": "python3"
  },
  "language_info": {
   "codemirror_mode": {
    "name": "ipython",
    "version": 3
   },
   "file_extension": ".py",
   "mimetype": "text/x-python",
   "name": "python",
   "nbconvert_exporter": "python",
   "pygments_lexer": "ipython3",
   "version": "3.6.1"
  }
 },
 "nbformat": 4,
 "nbformat_minor": 2
}
