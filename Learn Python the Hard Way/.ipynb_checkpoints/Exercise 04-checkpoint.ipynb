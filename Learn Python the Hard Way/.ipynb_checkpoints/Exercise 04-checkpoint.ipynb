{
 "cells": [
  {
   "cell_type": "markdown",
   "metadata": {},
   "source": [
    "# Exercise 04"
   ]
  },
  {
   "cell_type": "markdown",
   "metadata": {},
   "source": [
    "Assign variables to the following values and print the contents:"
   ]
  },
  {
   "cell_type": "code",
   "execution_count": 1,
   "metadata": {},
   "outputs": [
    {
     "name": "stdout",
     "output_type": "stream",
     "text": [
      "There are 100 cars available.\n",
      "There are only 30 drivers available.\n",
      "There will be 70 empty cars today.\n",
      "We can transport 120.0 people today.\n",
      "We have 90 to carpool today.\n",
      "We need to put about 3.0 in each car.\n"
     ]
    }
   ],
   "source": [
    "cars = 100\n",
    "space_in_a_car = 4.0\n",
    "drivers = 30\n",
    "passengers = 90\n",
    "cars_not_driven = cars - drivers\n",
    "cars_driven = drivers\n",
    "carpool_capacity = cars_driven * space_in_a_car\n",
    "average_passengers_per_car = passengers / cars_driven\n",
    "\n",
    "print(\"There are\", cars, \"cars available.\")\n",
    "print(\"There are only\", drivers, \"drivers available.\")\n",
    "print(\"There will be\", cars_not_driven, \"empty cars today.\")\n",
    "print(\"We can transport\", carpool_capacity, \"people today.\")\n",
    "print(\"We have\", passengers, \"to carpool today.\")\n",
    "print(\"We need to put about\", average_passengers_per_car, \"in each car.\")"
   ]
  },
  {
   "cell_type": "markdown",
   "metadata": {},
   "source": [
    "## Extra credit"
   ]
  },
  {
   "cell_type": "markdown",
   "metadata": {},
   "source": [
    "When I wrote this program the first time I had a mistake, and python told me about it like this:\n",
    "\n",
    "    Traceback (most recent call last):\n",
    "        File \"ex4.py\", line 8, in <module>\n",
    "            average_passengers_per_car = car_pool_capacity / passenger\n",
    "    NameError: name 'car_pool_capacity' is not defined\n",
    "    \n",
    "**Explain this error in your own words. Make sure you use line numbers and explain why.**"
   ]
  },
  {
   "cell_type": "markdown",
   "metadata": {},
   "source": [
    "`car_pool_capacity` in line 8 isn't a variable. Line 7 defines the variable as `carpool_capacity`, without the extra `_` between `car` and `pool`. Correcting `car_pool_capacity` to `carpool_capacity` should return no error."
   ]
  },
  {
   "cell_type": "markdown",
   "metadata": {},
   "source": [
    "**Explain why the 4.0 is used instead of just 4.**"
   ]
  },
  {
   "cell_type": "markdown",
   "metadata": {},
   "source": [
    "The `4.0` is used instead of `4` because the space in a car could be a non-integer value."
   ]
  },
  {
   "cell_type": "markdown",
   "metadata": {},
   "source": [
    "**Remember that 4.0 is a “floating point” number. Find out what that means.**"
   ]
  },
  {
   "cell_type": "markdown",
   "metadata": {
    "collapsed": true
   },
   "source": [
    "A floating point number is a real number that has both an integral and a fractional component which are separated by a decimal place. For example, $\\underbrace{3}_\\text{integral} . \\underbrace{14159}_\\text{fractional}$ is a floating point number."
   ]
  },
  {
   "cell_type": "markdown",
   "metadata": {},
   "source": [
    "**Write comments above each of the variable assignments.**"
   ]
  },
  {
   "cell_type": "code",
   "execution_count": 1,
   "metadata": {
    "collapsed": true
   },
   "outputs": [],
   "source": [
    "# assigns an integer\n",
    "cars = 100\n",
    "\n",
    "# assigns a floating point\n",
    "space_in_a_car = 4.0\n",
    "\n",
    "# assigns an integer\n",
    "drivers = 30\n",
    "\n",
    "# assigns an integer\n",
    "passengers = 90\n",
    "\n",
    "# assigns the difference between cars and drivers as an integer\n",
    "cars_not_driven = cars - drivers\n",
    "\n",
    "# assigns the value of drivers to cars_driven as an integer\n",
    "cars_driven = drivers\n",
    "\n",
    "# assigns the product of cars_driven (int) and space_in_a_car (floating point) as a floating point\n",
    "carpool_capacity = cars_driven * space_in_a_car\n",
    "\n",
    "# assigns the quotient of passengers and cars driven as a floating point because of the divison operation\n",
    "average_passengers_per_car = passengers / cars_driven"
   ]
  },
  {
   "cell_type": "markdown",
   "metadata": {},
   "source": [
    "**Make sure you know what = is called (equals) and that it’s making names for things.**"
   ]
  },
  {
   "cell_type": "markdown",
   "metadata": {},
   "source": [
    "**Remember `_` is an underscore character.**"
   ]
  },
  {
   "cell_type": "markdown",
   "metadata": {},
   "source": [
    "**Try running `python` as a calculator like you did before and use variable names to do your calculations. Popular variable names are also `i`, `x`, and `j`.**"
   ]
  },
  {
   "cell_type": "code",
   "execution_count": 2,
   "metadata": {},
   "outputs": [
    {
     "name": "stdout",
     "output_type": "stream",
     "text": [
      "15\n",
      "8.0\n",
      "2.0\n"
     ]
    }
   ],
   "source": [
    "val1 = 5\n",
    "val2 = 10\n",
    "val3 = 30\n",
    "\n",
    "print(5 + 10)\n",
    "print(30 / 10 + 5)\n",
    "print(30 / (10 + 5))"
   ]
  }
 ],
 "metadata": {
  "kernelspec": {
   "display_name": "Python 3",
   "language": "python",
   "name": "python3"
  },
  "language_info": {
   "codemirror_mode": {
    "name": "ipython",
    "version": 3
   },
   "file_extension": ".py",
   "mimetype": "text/x-python",
   "name": "python",
   "nbconvert_exporter": "python",
   "pygments_lexer": "ipython3",
   "version": "3.6.1"
  }
 },
 "nbformat": 4,
 "nbformat_minor": 2
}
