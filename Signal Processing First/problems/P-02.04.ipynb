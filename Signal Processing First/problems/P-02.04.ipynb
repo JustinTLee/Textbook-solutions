{
 "cells": [
  {
   "cell_type": "markdown",
   "metadata": {},
   "source": [
    "# P-02.04"
   ]
  },
  {
   "cell_type": "markdown",
   "metadata": {},
   "source": [
    "## Problem:"
   ]
  },
  {
   "cell_type": "markdown",
   "metadata": {},
   "source": [
    "Use the series expansions for $e^{x}$, $cos(\\theta)$, and $sin(\\theta)$ given here to verify Euler's formula.\n",
    "\n",
    "\\begin{align*}\n",
    "e^{x} &= 1 + x + \\frac{x^{2}}{2!} + \\frac{x^{3}}{3!} + \\dots \\\\\n",
    "\\cos(\\theta) &= 1 - \\frac{\\theta^{2}}{2!} - \\frac{\\theta^{4}}{4!} + \\dots \\\\\n",
    "\\sin(\\theta) &= \\theta - \\frac{\\theta^{3}}{3!} + \\frac{\\theta^{5}}{5!} + \\dots \\\\\n",
    "\\end{align*}"
   ]
  },
  {
   "cell_type": "markdown",
   "metadata": {},
   "source": [
    "## Solution:"
   ]
  },
  {
   "cell_type": "markdown",
   "metadata": {},
   "source": [
    "Euler's formula:\n",
    "\n",
    "\\begin{equation*}\n",
    "e^{jx} = \\cos(x) + j \\, \\sin(x)\n",
    "\\end{equation*}\n",
    "\n",
    "Replace with the above series expansions:\n",
    "\n",
    "\\begin{align*}\n",
    "e^{jx} &= \\cos(x) + j \\, \\sin(x) \\\\\n",
    "1 + j x + \\frac{(j x)^{2}}{2!} + \\frac{(j x)^{3}}{3!} + \\dots &= 1 - \\frac{x^{2}}{2!} - \\frac{x^{4}}{4!} + \\dots + j \\left( x - \\frac{x^{3}}{3!} + \\frac{x^{5}}{5!} + \\dots \\right) \\\\\n",
    "1 + j x - \\frac{x^{2}}{2!} - j \\frac{x^{3}}{3!} + \\dots &= 1 + j x - \\frac{x^{2}}{2!} - j \\frac{x^{3}}{3!} + \\frac{x^{4}}{4!} + j \\frac{x^{5}}{5!} \\\\\n",
    "\\end{align*}\n",
    "\n",
    "It's evident that the pattern continues and that Euler's formula matches the sum of the series expansions of $\\cos(x)$ and $j \\sin(x)$."
   ]
  }
 ],
 "metadata": {
  "kernelspec": {
   "display_name": "Matlab",
   "language": "matlab",
   "name": "matlab"
  },
  "language_info": {
   "codemirror_mode": "octave",
   "file_extension": ".m",
   "help_links": [
    {
     "text": "MetaKernel Magics",
     "url": "https://github.com/calysto/metakernel/blob/master/metakernel/magics/README.md"
    }
   ],
   "mimetype": "text/x-matlab",
   "name": "matlab",
   "version": "0.14.3"
  }
 },
 "nbformat": 4,
 "nbformat_minor": 2
}
