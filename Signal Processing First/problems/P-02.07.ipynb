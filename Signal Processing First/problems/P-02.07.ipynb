{
 "cells": [
  {
   "cell_type": "markdown",
   "metadata": {},
   "source": [
    "# P-02.07"
   ]
  },
  {
   "cell_type": "markdown",
   "metadata": {},
   "source": [
    "## Problem:"
   ]
  },
  {
   "cell_type": "markdown",
   "metadata": {},
   "source": [
    "Simply the following expressions:\n",
    "\n",
    "a. $3e^{j\\frac{\\pi}{3}} + 4e^{-j\\frac{\\pi}{6}}$<br/>\n",
    "b. $(\\sqrt{3} - j3)^{10}$<br/>\n",
    "c. $(\\sqrt{3} - j3)^{-1}$<br/>\n",
    "d. $(\\sqrt{3} - j3)^{\\frac{1}{3}}$<br/>\n",
    "d. $\\text{Real}\\{je^{-j{\\pi}{3}}\\}$"
   ]
  },
  {
   "cell_type": "markdown",
   "metadata": {},
   "source": [
    "## Solution:"
   ]
  },
  {
   "cell_type": "markdown",
   "metadata": {},
   "source": [
    "#### a."
   ]
  },
  {
   "cell_type": "markdown",
   "metadata": {},
   "source": [
    "\\begin{align*}\n",
    "3e^{j\\frac{\\pi}{3}} + 4e^{-j\\frac{\\pi}{6}} &= 3 \\cos \\left(\\frac{\\pi}{3} \\right) + 3j \\sin \\left(\\frac{\\pi}{3} \\right) + 4 \\cos \\left(\\frac{\\pi}{6} \\right) + 4j \\sin \\left(\\frac{\\pi}{6} \\right) \\\\\n",
    "&= \\frac{3}{2} + j\\frac{3 \\sqrt{3}}{2} + \\frac{4 \\sqrt{3}}{2} + j\\frac{4}{2} \\\\\n",
    "&= \\frac{3 + 4 \\sqrt{3}}{2} + j \\frac{4 + 3 \\sqrt{3}}{2}\n",
    "\\end{align*}"
   ]
  },
  {
   "cell_type": "markdown",
   "metadata": {},
   "source": [
    "#### b."
   ]
  },
  {
   "cell_type": "markdown",
   "metadata": {},
   "source": [
    "\\begin{align*}\n",
    "(\\sqrt{3} - j3)^{10} &= \\\\\n",
    "\\end{align*}"
   ]
  }
 ],
 "metadata": {
  "kernelspec": {
   "display_name": "Matlab",
   "language": "matlab",
   "name": "matlab"
  },
  "language_info": {
   "codemirror_mode": "octave",
   "file_extension": ".m",
   "help_links": [
    {
     "text": "MetaKernel Magics",
     "url": "https://github.com/calysto/metakernel/blob/master/metakernel/magics/README.md"
    }
   ],
   "mimetype": "text/x-matlab",
   "name": "matlab",
   "version": "0.14.3"
  }
 },
 "nbformat": 4,
 "nbformat_minor": 2
}
