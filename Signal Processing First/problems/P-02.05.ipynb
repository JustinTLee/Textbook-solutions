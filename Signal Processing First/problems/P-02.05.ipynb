{
 "cells": [
  {
   "cell_type": "markdown",
   "metadata": {},
   "source": [
    "# P-02.05"
   ]
  },
  {
   "cell_type": "markdown",
   "metadata": {},
   "source": [
    "## Problem:"
   ]
  },
  {
   "cell_type": "markdown",
   "metadata": {},
   "source": [
    "Use complex exponentials (.e., phasors) to show the following trigonometric identities:\n",
    "\n",
    "a. $\\cos(\\theta_{1} + \\theta_{2}) = \\cos(\\theta_{1})\\cos(\\theta_{2}) - \\sin(\\theta_{1})\\sin(\\theta_{2})$ <br/>\n",
    "b. $\\cos(\\theta_{1} - \\theta_{2}) = \\cos(\\theta_{1})\\cos(\\theta_{2}) + \\sin(\\theta_{1})\\sin(\\theta_{2})$"
   ]
  },
  {
   "cell_type": "markdown",
   "metadata": {},
   "source": [
    "## Solution:"
   ]
  },
  {
   "cell_type": "markdown",
   "metadata": {},
   "source": [
    "#### a."
   ]
  },
  {
   "cell_type": "markdown",
   "metadata": {},
   "source": [
    "\\begin{align*}\n",
    "\\cos(\\theta_{1} + \\theta_{2}) &= \\cos(\\theta_{1})\\cos(\\theta_{2}) - \\sin(\\theta_{1})\\sin(\\theta_{2}) \\\\\n",
    "\\cos(\\theta_{1} + \\theta_{2}) &= \\left( \\frac{e^{j \\theta_{1}} + e^{-j \\theta_{1}}}{2} \\right) \\left( \\frac{e^{j \\theta_{2}} + e^{-j \\theta_{2}}}{2} \\right) - \\left( \\frac{e^{j \\theta_{1}} - e^{-j \\theta_{1}}}{2j} \\right) \\left( \\frac{e^{j \\theta_{2}} - e^{-j \\theta_{2}}}{2j} \\right)\\\\\n",
    "\\frac{e^{j (\\theta_{1} + \\theta_{2})} + e^{-j (\\theta_{1} + \\theta_{2})}}{2} &= \\frac{e^{j \\theta_{1}}e^{j \\theta_{2}} + e^{j \\theta_{1}}e^{-j \\theta_{2}} + e^{-j \\theta_{1}}e^{j \\theta_{2}} + e^{-j \\theta_{1}}e^{-j \\theta_{2}}}{4} + \\frac{e^{j \\theta_{1}}e^{j \\theta_{2}} - e^{j \\theta_{1}}e^{-j \\theta_{2}} - e^{-j \\theta_{1}}e^{j \\theta_{2}} + e^{-j \\theta_{1}}e^{-j \\theta_{2}}}{4}\\\\\n",
    "\\frac{e^{j (\\theta_{1} + \\theta_{2})} + e^{-j (\\theta_{1} + \\theta_{2})}}{2} &= \\frac{2e^{j \\theta_{1}}e^{j \\theta_{2}} + 2e^{-j \\theta_{1}}e^{-j \\theta_{2}}}{4}\\\\\n",
    "\\frac{e^{j (\\theta_{1} + \\theta_{2})} + e^{-j (\\theta_{1} + \\theta_{2})}}{2} &= \\frac{2e^{j (\\theta_{1} + \\theta_{2})} + 2e^{-j (\\theta_{1} + \\theta_{2})}}{4}\\\\\n",
    "\\frac{e^{j (\\theta_{1} + \\theta_{2})} + e^{-j (\\theta_{1} + \\theta_{2})}}{2} &= \\frac{e^{j (\\theta_{1} + \\theta_{2})} + e^{-j (\\theta_{1} + \\theta_{2})}}{2}\\\\\n",
    "\\cos(\\theta_{1} + \\theta_{2}) &= \\cos(\\theta_{1} + \\theta_{2}) \\\\\n",
    "\\end{align*}"
   ]
  },
  {
   "cell_type": "markdown",
   "metadata": {},
   "source": [
    "#### b."
   ]
  },
  {
   "cell_type": "markdown",
   "metadata": {},
   "source": [
    "\\begin{align*}\n",
    "\\cos(\\theta_{1} - \\theta_{2}) &= \\cos(\\theta_{1})\\cos(\\theta_{2}) + \\sin(\\theta_{1})\\sin(\\theta_{2}) \\\\\n",
    "\\cos(\\theta_{1} - \\theta_{2}) &= \\left( \\frac{e^{j \\theta_{1}} + e^{-j \\theta_{1}}}{2} \\right) \\left( \\frac{e^{j \\theta_{2}} + e^{-j \\theta_{2}}}{2} \\right) + \\left( \\frac{e^{j \\theta_{1}} - e^{-j \\theta_{1}}}{2j} \\right) \\left( \\frac{e^{j \\theta_{2}} - e^{-j \\theta_{2}}}{2j} \\right)\\\\\n",
    "\\frac{e^{j (\\theta_{1} - \\theta_{2})} + e^{-j (\\theta_{1} - \\theta_{2})}}{2} &= \\frac{e^{j \\theta_{1}}e^{j \\theta_{2}} + e^{j \\theta_{1}}e^{-j \\theta_{2}} + e^{-j \\theta_{1}}e^{j \\theta_{2}} + e^{-j \\theta_{1}}e^{-j \\theta_{2}}}{4} - \\frac{e^{j \\theta_{1}}e^{j \\theta_{2}} - e^{j \\theta_{1}}e^{-j \\theta_{2}} - e^{-j \\theta_{1}}e^{j \\theta_{2}} + e^{-j \\theta_{1}}e^{-j \\theta_{2}}}{4}\\\\\n",
    "\\frac{e^{j (\\theta_{1} - \\theta_{2})} + e^{-j (\\theta_{1} - \\theta_{2})}}{2} &= \\frac{2e^{j \\theta_{1}}e^{-j \\theta_{2}} + 2e^{-j \\theta_{1}}e^{j \\theta_{2}}}{4}\\\\\n",
    "\\frac{e^{j (\\theta_{1} - \\theta_{2})} + e^{-j (\\theta_{1} - \\theta_{2})}}{2} &= \\frac{2e^{j (\\theta_{1} - \\theta_{2})} + 2e^{-j (\\theta_{1} - \\theta_{2})}}{4}\\\\\n",
    "\\frac{e^{j (\\theta_{1} - \\theta_{2})} + e^{-j (\\theta_{1} - \\theta_{2})}}{2} &= \\frac{e^{j (\\theta_{1} - \\theta_{2})} + e^{-j (\\theta_{1} - \\theta_{2})}}{2}\\\\\n",
    "\\cos(\\theta_{1} - \\theta_{2}) &= \\cos(\\theta_{1} - \\theta_{2}) \\\\\n",
    "\\end{align*}"
   ]
  }
 ],
 "metadata": {
  "kernelspec": {
   "display_name": "Matlab",
   "language": "matlab",
   "name": "matlab"
  },
  "language_info": {
   "codemirror_mode": "octave",
   "file_extension": ".m",
   "help_links": [
    {
     "text": "MetaKernel Magics",
     "url": "https://github.com/calysto/metakernel/blob/master/metakernel/magics/README.md"
    }
   ],
   "mimetype": "text/x-matlab",
   "name": "matlab",
   "version": "0.14.3"
  }
 },
 "nbformat": 4,
 "nbformat_minor": 2
}
