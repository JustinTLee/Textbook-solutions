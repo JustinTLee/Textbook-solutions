{
 "cells": [
  {
   "cell_type": "markdown",
   "metadata": {},
   "source": [
    "# P-02.06"
   ]
  },
  {
   "cell_type": "markdown",
   "metadata": {},
   "source": [
    "## Problem:"
   ]
  },
  {
   "cell_type": "markdown",
   "metadata": {},
   "source": [
    "Use Euler's formula for the complex exponential to prove DeMoivre's formula:\n",
    "\n",
    "\\begin{equation*}\n",
    "(\\cos(\\theta) + j \\sin(\\theta))^{n} = \\cos(n \\theta) + j \\sin(n \\theta)\n",
    "\\end{equation*}\n",
    "\n",
    "Use to evaluate $\\left( \\frac{3}{5} + j \\frac{4}{5} \\right)^{100}$."
   ]
  },
  {
   "cell_type": "markdown",
   "metadata": {},
   "source": [
    "## Solution:"
   ]
  },
  {
   "cell_type": "markdown",
   "metadata": {},
   "source": [
    "DeMoivre's formula can be proven by:"
   ]
  },
  {
   "cell_type": "markdown",
   "metadata": {},
   "source": [
    "\\begin{align*}\n",
    "(\\cos(\\theta) + j \\sin(\\theta))^{n} &= \\left( e^{j \\theta} \\right)^{n} \\\\\n",
    "&= e^{j n \\theta} \\\\\n",
    "&= \\cos(n \\theta) + j \\sin(n \\theta) \\\\\n",
    "\\end{align*}"
   ]
  },
  {
   "cell_type": "markdown",
   "metadata": {},
   "source": [
    "Evaluating $\\left( \\frac{3}{5} + j \\frac{4}{5} \\right)^{100}$:"
   ]
  },
  {
   "cell_type": "code",
   "execution_count": 4,
   "metadata": {},
   "outputs": [
    {
     "name": "stdout",
     "output_type": "stream",
     "text": [
      "    0.0525\n",
      "\n",
      "   -0.9986\n",
      "\n"
     ]
    }
   ],
   "source": [
    "theta = atan(4/3);\n",
    "n = 100;\n",
    "\n",
    "cosnTheta = cos(n*theta);\n",
    "sinnTheta = sin(n*theta);\n",
    "\n",
    "disp(cosnTheta);\n",
    "disp(sinnTheta);"
   ]
  },
  {
   "cell_type": "markdown",
   "metadata": {},
   "source": [
    "$\\left( \\frac{3}{5} + j \\frac{4}{5} \\right)^{100} = 0.0525 - j0.9986$"
   ]
  }
 ],
 "metadata": {
  "kernelspec": {
   "display_name": "Matlab",
   "language": "matlab",
   "name": "matlab"
  },
  "language_info": {
   "codemirror_mode": "octave",
   "file_extension": ".m",
   "help_links": [
    {
     "text": "MetaKernel Magics",
     "url": "https://github.com/calysto/metakernel/blob/master/metakernel/magics/README.md"
    }
   ],
   "mimetype": "text/x-matlab",
   "name": "matlab",
   "version": "0.14.3"
  }
 },
 "nbformat": 4,
 "nbformat_minor": 2
}
