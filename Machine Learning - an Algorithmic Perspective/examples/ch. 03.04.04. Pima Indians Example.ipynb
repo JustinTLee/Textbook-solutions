{
 "cells": [
  {
   "cell_type": "markdown",
   "metadata": {},
   "source": [
    "# Ch. 03.04.04 Pima Indians Example"
   ]
  },
  {
   "cell_type": "markdown",
   "metadata": {},
   "source": [
    "## Loading data"
   ]
  },
  {
   "cell_type": "markdown",
   "metadata": {},
   "source": [
    "Import the necessary modules:"
   ]
  },
  {
   "cell_type": "code",
   "execution_count": 1,
   "metadata": {},
   "outputs": [],
   "source": [
    "import os\n",
    "import numpy as np\n",
    "import pylab as pl\n",
    "import pcn\n",
    "from sklearn.metrics import confusion_matrix"
   ]
  },
  {
   "cell_type": "markdown",
   "metadata": {},
   "source": [
    "Load dataset:"
   ]
  },
  {
   "cell_type": "code",
   "execution_count": 2,
   "metadata": {},
   "outputs": [],
   "source": [
    "os.chdir(\"../../../datasets/pima-indians-diabetes\")\n",
    "pima = np.loadtxt(\"pima-indians-diabetes.data\", delimiter = \",\")\n",
    "os.chdir(\"../../textbook solutions/Machine Learning - an Algorithmic Perspective/examples/\")"
   ]
  },
  {
   "cell_type": "markdown",
   "metadata": {},
   "source": [
    "Make sure the dataset is loaded:"
   ]
  },
  {
   "cell_type": "code",
   "execution_count": 3,
   "metadata": {},
   "outputs": [
    {
     "name": "stdout",
     "output_type": "stream",
     "text": [
      "True\n"
     ]
    }
   ],
   "source": [
    "print(np.shape(pima) == (768, 9))"
   ]
  },
  {
   "cell_type": "markdown",
   "metadata": {},
   "source": [
    "Get the indices for label 0 and label 1:"
   ]
  },
  {
   "cell_type": "code",
   "execution_count": 4,
   "metadata": {},
   "outputs": [
    {
     "name": "stdout",
     "output_type": "stream",
     "text": [
      "True\n"
     ]
    }
   ],
   "source": [
    "indices0 = np.where(pima[:, 8] == 0)\n",
    "indices1 = np.where(pima[:, 8] == 1)\n",
    "\n",
    "print(np.size(indices0) + np.size(indices1) == 768)"
   ]
  },
  {
   "cell_type": "markdown",
   "metadata": {},
   "source": [
    "Plot the first two feature variables for both index type:"
   ]
  },
  {
   "cell_type": "code",
   "execution_count": 5,
   "metadata": {},
   "outputs": [
    {
     "data": {
      "image/png": "[encoded data removed]",
      "text/plain": [
       "<matplotlib.figure.Figure at 0x7f36d8fb25c0>"
      ]
     },
     "metadata": {},
     "output_type": "display_data"
    }
   ],
   "source": [
    "pl.plot(pima[indices0, 0], pima[indices0, 1], \"go\")\n",
    "pl.plot(pima[indices1, 0], pima[indices1, 1], \"rx\")\n",
    "pl.xlabel(\"# times pregnant\")\n",
    "pl.ylabel(\"blood glucose concentration\")\n",
    "pl.title(\"# times pregnant vs blood glucose concentration\")\n",
    "pl.show()"
   ]
  },
  {
   "cell_type": "markdown",
   "metadata": {},
   "source": [
    "## Training attempt without pre-processing"
   ]
  },
  {
   "cell_type": "code",
   "execution_count": 6,
   "metadata": {},
   "outputs": [
    {
     "name": "stdout",
     "output_type": "stream",
     "text": [
      "Total percentage correct: 39.06%\n",
      "\n",
      "Confusion matrix:\n",
      "[[ 38 462]\n",
      " [  6 262]]\n"
     ]
    },
    {
     "name": "stderr",
     "output_type": "stream",
     "text": [
      "/home/jlee/Documents/textbook solutions/Machine Learning - an Algorithmic Perspective/examples/pcn.py:62: RuntimeWarning: overflow encountered in exp\n",
      "  yi = 1/(1 + np.exp(-hij))\n"
     ]
    }
   ],
   "source": [
    "p = pcn.pcn(1, iter = 100, thresh_type = \"logistic\")\n",
    "output = np.squeeze(p.trainWeights(pima[:, :8], pima[:, 8]))\n",
    "output = np.where(output > 0, 1, 0)\n",
    "\n",
    "results_metrics = confusion_matrix(pima[:, 8], output)\n",
    "percCorrect = round(np.trace(results_metrics)/np.sum(results_metrics)*100, 2)\n",
    "\n",
    "resultsStr = \"Total percentage correct: \" + str(percCorrect) + \"%\"\n",
    "print(resultsStr)\n",
    "print(\"\\nConfusion matrix:\")\n",
    "print(results_metrics)"
   ]
  },
  {
   "cell_type": "markdown",
   "metadata": {},
   "source": [
    "While the correct percentage is above 50%, only the 0 labels seem to be accurate, meaning that we have a high percentage of 1's misclassified as 0's. This is really no better than chance."
   ]
  },
  {
   "cell_type": "markdown",
   "metadata": {},
   "source": [
    "## Pre-processing data"
   ]
  },
  {
   "cell_type": "markdown",
   "metadata": {},
   "source": [
    "Split `pima` dataset up into observation matrix and labels:"
   ]
  },
  {
   "cell_type": "code",
   "execution_count": 7,
   "metadata": {},
   "outputs": [],
   "source": [
    "data = pima[:, :8]\n",
    "labels = pima[:, 8]"
   ]
  },
  {
   "cell_type": "markdown",
   "metadata": {},
   "source": [
    "Create mean deviation form of data:"
   ]
  },
  {
   "cell_type": "code",
   "execution_count": 8,
   "metadata": {},
   "outputs": [],
   "source": [
    "data = (data - data.mean(axis = 0))/data.var(axis = 0)"
   ]
  },
  {
   "cell_type": "markdown",
   "metadata": {},
   "source": [
    "Create mean deviation form of labels:"
   ]
  },
  {
   "cell_type": "code",
   "execution_count": 9,
   "metadata": {},
   "outputs": [],
   "source": [
    "labels = (labels - labels.mean(axis = 0))/labels.var(axis = 0)"
   ]
  },
  {
   "cell_type": "markdown",
   "metadata": {},
   "source": [
    "## Create training and test datasets"
   ]
  },
  {
   "cell_type": "markdown",
   "metadata": {},
   "source": [
    "Training datasets:"
   ]
  },
  {
   "cell_type": "code",
   "execution_count": 10,
   "metadata": {},
   "outputs": [],
   "source": [
    "trainin = data[::2, :]\n",
    "trainlabels = labels[::2]"
   ]
  },
  {
   "cell_type": "markdown",
   "metadata": {},
   "source": [
    "Test datasets:"
   ]
  },
  {
   "cell_type": "code",
   "execution_count": 11,
   "metadata": {},
   "outputs": [],
   "source": [
    "testin = data[1::2, :]\n",
    "testlabels = labels[1::2]"
   ]
  },
  {
   "cell_type": "markdown",
   "metadata": {},
   "source": [
    "## Run training and test datasets"
   ]
  },
  {
   "cell_type": "code",
   "execution_count": 12,
   "metadata": {},
   "outputs": [
    {
     "name": "stdout",
     "output_type": "stream",
     "text": [
      "Total percentage correct: 65.89%\n",
      "\n",
      "Confusion matrix:\n",
      "[[205  44]\n",
      " [ 87  48]]\n"
     ]
    },
    {
     "name": "stderr",
     "output_type": "stream",
     "text": [
      "/home/jlee/Documents/textbook solutions/Machine Learning - an Algorithmic Perspective/examples/pcn.py:62: RuntimeWarning: overflow encountered in exp\n",
      "  yi = 1/(1 + np.exp(-hij))\n"
     ]
    }
   ],
   "source": [
    "p = pcn.pcn(1, iter = 100, thresh_type = \"logistic\")\n",
    "output = np.squeeze(p.trainWeights(trainin, trainlabels))\n",
    "trainlabels = np.where(trainlabels > 0, 1, 0)\n",
    "\n",
    "results_metrics = confusion_matrix(trainlabels, output)\n",
    "percCorrect = round(np.trace(results_metrics)/np.sum(results_metrics)*100, 2)\n",
    "\n",
    "resultsStr = \"Total percentage correct: \" + str(percCorrect) + \"%\"\n",
    "print(resultsStr)\n",
    "print(\"\\nConfusion matrix:\")\n",
    "print(results_metrics)"
   ]
  },
  {
   "cell_type": "code",
   "execution_count": 13,
   "metadata": {
    "scrolled": true
   },
   "outputs": [
    {
     "name": "stdout",
     "output_type": "stream",
     "text": [
      "Test set\n",
      "Total percentage correct: 65.1%\n",
      "\n",
      "Confusion matrix:\n",
      "[[207  44]\n",
      " [ 90  43]]\n"
     ]
    },
    {
     "name": "stderr",
     "output_type": "stream",
     "text": [
      "/home/jlee/Documents/textbook solutions/Machine Learning - an Algorithmic Perspective/examples/pcn.py:62: RuntimeWarning: overflow encountered in exp\n",
      "  yi = 1/(1 + np.exp(-hij))\n"
     ]
    }
   ],
   "source": [
    "output = np.squeeze(p.forwardPredict(testin))\n",
    "testlabels = np.where(testlabels > 0, 1, 0)\n",
    "\n",
    "results_metrics = confusion_matrix(testlabels, output)\n",
    "percCorrect = round(np.trace(results_metrics)/np.sum(results_metrics)*100, 2)\n",
    "\n",
    "resultsStr = \"Total percentage correct: \" + str(percCorrect) + \"%\"\n",
    "print(\"Test set\")\n",
    "print(resultsStr)\n",
    "print(\"\\nConfusion matrix:\")\n",
    "print(results_metrics)"
   ]
  },
  {
   "cell_type": "markdown",
   "metadata": {},
   "source": [
    "## Data cleaning"
   ]
  },
  {
   "cell_type": "markdown",
   "metadata": {},
   "source": [
    "Set number of pregnancies to max out at 8:"
   ]
  },
  {
   "cell_type": "code",
   "execution_count": 14,
   "metadata": {},
   "outputs": [],
   "source": [
    "data[data[:, 0] > 8, 0] = 8"
   ]
  },
  {
   "cell_type": "markdown",
   "metadata": {},
   "source": [
    "Quantize ages:"
   ]
  },
  {
   "cell_type": "code",
   "execution_count": 15,
   "metadata": {},
   "outputs": [],
   "source": [
    "data[(data[:, 7] <= 30), 7] = 1\n",
    "indices2 = np.where((data[:, 7] > 30) & (data[:, 7] <= 40))\n",
    "data[indices2, 7] = 2"
   ]
  },
  {
   "cell_type": "markdown",
   "metadata": {},
   "source": [
    "Look for correlations in the data:"
   ]
  },
  {
   "cell_type": "code",
   "execution_count": 16,
   "metadata": {},
   "outputs": [
    {
     "name": "stdout",
     "output_type": "stream",
     "text": [
      "[[ 1.    0.13  0.14 -0.08 -0.07  0.02 -0.03   nan]\n",
      " [ 0.13  1.    0.15  0.06  0.33  0.22  0.14   nan]\n",
      " [ 0.14  0.15  1.    0.21  0.09  0.28  0.04   nan]\n",
      " [-0.08  0.06  0.21  1.    0.44  0.39  0.18   nan]\n",
      " [-0.07  0.33  0.09  0.44  1.    0.2   0.19   nan]\n",
      " [ 0.02  0.22  0.28  0.39  0.2   1.    0.14   nan]\n",
      " [-0.03  0.14  0.04  0.18  0.19  0.14  1.     nan]\n",
      " [  nan   nan   nan   nan   nan   nan   nan   nan]]\n"
     ]
    },
    {
     "name": "stderr",
     "output_type": "stream",
     "text": [
      "/home/jlee/anaconda3/envs/jlee_python3/lib/python3.6/site-packages/numpy/lib/function_base.py:3167: RuntimeWarning: invalid value encountered in true_divide\n",
      "  c /= stddev[:, None]\n",
      "/home/jlee/anaconda3/envs/jlee_python3/lib/python3.6/site-packages/numpy/lib/function_base.py:3168: RuntimeWarning: invalid value encountered in true_divide\n",
      "  c /= stddev[None, :]\n"
     ]
    }
   ],
   "source": [
    "print(np.corrcoef(data.T).round(2))"
   ]
  },
  {
   "cell_type": "markdown",
   "metadata": {},
   "source": [
    "## Run training and test datasets on cleaned data"
   ]
  },
  {
   "cell_type": "markdown",
   "metadata": {},
   "source": [
    "Training datasets:"
   ]
  },
  {
   "cell_type": "code",
   "execution_count": 17,
   "metadata": {},
   "outputs": [],
   "source": [
    "trainin = data[::2, :]\n",
    "trainlabels = labels[::2]"
   ]
  },
  {
   "cell_type": "markdown",
   "metadata": {},
   "source": [
    "Test datasets:"
   ]
  },
  {
   "cell_type": "code",
   "execution_count": 18,
   "metadata": {},
   "outputs": [],
   "source": [
    "testin = data[1::2, :]\n",
    "testlabels = labels[1::2]"
   ]
  },
  {
   "cell_type": "code",
   "execution_count": 19,
   "metadata": {},
   "outputs": [
    {
     "name": "stderr",
     "output_type": "stream",
     "text": [
      "/home/jlee/Documents/textbook solutions/Machine Learning - an Algorithmic Perspective/examples/pcn.py:62: RuntimeWarning: overflow encountered in exp\n",
      "  yi = 1/(1 + np.exp(-hij))\n"
     ]
    },
    {
     "name": "stdout",
     "output_type": "stream",
     "text": [
      "Total percentage correct: 65.36%\n",
      "\n",
      "Confusion matrix:\n",
      "[[210  39]\n",
      " [ 94  41]]\n"
     ]
    }
   ],
   "source": [
    "p = pcn.pcn(1, iter = 100, thresh_type = \"logistic\")\n",
    "output = np.squeeze(p.trainWeights(trainin, trainlabels))\n",
    "trainlabels = np.where(trainlabels > 0, 1, 0)\n",
    "\n",
    "results_metrics = confusion_matrix(trainlabels, output)\n",
    "percCorrect = round(np.trace(results_metrics)/np.sum(results_metrics)*100, 2)\n",
    "\n",
    "resultsStr = \"Total percentage correct: \" + str(percCorrect) + \"%\"\n",
    "print(resultsStr)\n",
    "print(\"\\nConfusion matrix:\")\n",
    "print(results_metrics)"
   ]
  },
  {
   "cell_type": "code",
   "execution_count": 20,
   "metadata": {
    "scrolled": true
   },
   "outputs": [
    {
     "name": "stdout",
     "output_type": "stream",
     "text": [
      "Test set\n",
      "Total percentage correct: 65.36%\n",
      "\n",
      "Confusion matrix:\n",
      "[[217  34]\n",
      " [ 99  34]]\n"
     ]
    },
    {
     "name": "stderr",
     "output_type": "stream",
     "text": [
      "/home/jlee/Documents/textbook solutions/Machine Learning - an Algorithmic Perspective/examples/pcn.py:62: RuntimeWarning: overflow encountered in exp\n",
      "  yi = 1/(1 + np.exp(-hij))\n"
     ]
    }
   ],
   "source": [
    "output = np.squeeze(p.forwardPredict(testin))\n",
    "testlabels = np.where(testlabels > 0, 1, 0)\n",
    "\n",
    "results_metrics = confusion_matrix(testlabels, output)\n",
    "percCorrect = round(np.trace(results_metrics)/np.sum(results_metrics)*100, 2)\n",
    "\n",
    "resultsStr = \"Total percentage correct: \" + str(percCorrect) + \"%\"\n",
    "print(\"Test set\")\n",
    "print(resultsStr)\n",
    "print(\"\\nConfusion matrix:\")\n",
    "print(results_metrics)"
   ]
  }
 ],
 "metadata": {
  "kernelspec": {
   "display_name": "Python 3",
   "language": "python",
   "name": "python3"
  },
  "language_info": {
   "codemirror_mode": {
    "name": "ipython",
    "version": 3
   },
   "file_extension": ".py",
   "mimetype": "text/x-python",
   "name": "python",
   "nbconvert_exporter": "python",
   "pygments_lexer": "ipython3",
   "version": "3.6.3"
  }
 },
 "nbformat": 4,
 "nbformat_minor": 2
}
