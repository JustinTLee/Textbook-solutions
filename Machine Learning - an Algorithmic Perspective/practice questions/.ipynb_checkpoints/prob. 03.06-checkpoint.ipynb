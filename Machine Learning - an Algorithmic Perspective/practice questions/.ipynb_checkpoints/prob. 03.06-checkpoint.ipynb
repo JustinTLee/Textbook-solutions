{
 "cells": [
  {
   "cell_type": "markdown",
   "metadata": {},
   "source": [
    "# Problem 03.06"
   ]
  },
  {
   "cell_type": "markdown",
   "metadata": {},
   "source": [
    "## Problem:"
   ]
  },
  {
   "cell_type": "markdown",
   "metadata": {},
   "source": [
    "Try to think of some interesting image processing tasks that cannot be performed by a Perceptron. (Hint: You need to think of tasks where looking at individual pixels isn’t enough to allow classiﬁcation.)"
   ]
  },
  {
   "cell_type": "markdown",
   "metadata": {},
   "source": [
    "## Solution:"
   ]
  },
  {
   "cell_type": "markdown",
   "metadata": {},
   "source": [
    "Image processing tasks that cannot be performed by a Perceptron:\n",
    "\n",
    "* identifying an object that isn't roughly aligned between images - perceptron can identify objects that are approximately in the same location in every same-sized image, but won't be able to adjust weights if the objects drastically switch locations every time\n",
    "* identifying objects in images with a lot of noise, or specifically placed noise\n",
    "* Comparing images of different sizes\n",
    "* Identifying time that an image is taken"
   ]
  }
 ],
 "metadata": {
  "kernelspec": {
   "display_name": "Python 3",
   "language": "python",
   "name": "python3"
  },
  "language_info": {
   "codemirror_mode": {
    "name": "ipython",
    "version": 3
   },
   "file_extension": ".py",
   "mimetype": "text/x-python",
   "name": "python",
   "nbconvert_exporter": "python",
   "pygments_lexer": "ipython3",
   "version": "3.6.3"
  }
 },
 "nbformat": 4,
 "nbformat_minor": 2
}
