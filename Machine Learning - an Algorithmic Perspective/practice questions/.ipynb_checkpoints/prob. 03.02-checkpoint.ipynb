{
 "cells": [
  {
   "cell_type": "markdown",
   "metadata": {},
   "source": [
    "# Problem 03.02"
   ]
  },
  {
   "cell_type": "markdown",
   "metadata": {},
   "source": [
    "## Problem:"
   ]
  },
  {
   "cell_type": "markdown",
   "metadata": {},
   "source": [
    "Work out the Perceptrons that construct logical NOT, NAND, and NOR of their inputs."
   ]
  },
  {
   "cell_type": "markdown",
   "metadata": {},
   "source": [
    "## Solution:"
   ]
  },
  {
   "cell_type": "code",
   "execution_count": 1,
   "metadata": {
    "collapsed": true
   },
   "outputs": [],
   "source": [
    "import numpy as np\n",
    "import pylab as pl\n",
    "import pcn\n",
    "\n",
    "inputs_1D = np.matrix([[0], [1]])\n",
    "inputs_2D = np.matrix([[0, 0], [0, 1], [1, 0], [1, 1]])"
   ]
  },
  {
   "cell_type": "markdown",
   "metadata": {},
   "source": [
    "#### NOT gate:"
   ]
  },
  {
   "cell_type": "markdown",
   "metadata": {},
   "source": [
    "Training the NOT gate perceptron:"
   ]
  },
  {
   "cell_type": "code",
   "execution_count": 2,
   "metadata": {},
   "outputs": [
    {
     "name": "stdout",
     "output_type": "stream",
     "text": [
      "[[ 1.]\n",
      " [ 0.]]\n"
     ]
    }
   ],
   "source": [
    "not_gate_targets = np.matrix([[1], [0]])\n",
    "\n",
    "not_gate = pcn.pcn(1, seed = 20180121, iter = 100)\n",
    "results = not_gate.trainWeights(inputs_1D, not_gate_targets)\n",
    "print(results)"
   ]
  },
  {
   "cell_type": "markdown",
   "metadata": {},
   "source": [
    "Plotting the results:"
   ]
  },
  {
   "cell_type": "code",
   "execution_count": 3,
   "metadata": {},
   "outputs": [
    {
     "data": {
      "image/png": "[encoded data removed]",
      "text/plain": [
       "<matplotlib.figure.Figure at 0x7fb0cb5b9fd0>"
      ]
     },
     "metadata": {},
     "output_type": "display_data"
    }
   ],
   "source": [
    "x = np.arange(-1, 1, 0.01)\n",
    "NOT_x = not_gate.matNeurons[0].weights[0]/not_gate.matNeurons[0].weights[1]*np.ones(np.shape(x)[0])\n",
    "        \n",
    "indices0 = np.squeeze(results == 0)\n",
    "indices1 = np.squeeze(results == 1)\n",
    "\n",
    "pl.plot(inputs_1D[indices1], 'bx', label = '1')\n",
    "pl.plot(inputs_1D[indices0], 'bo', label = '0')\n",
    "pl.plot(x, NOT_x, '--r', label = 'boundary')\n",
    "pl.xlabel('')\n",
    "pl.ylabel('input')\n",
    "pl.title('Decision boundary - NOT')\n",
    "pl.axis([-0.2, 0.2, -0.2, 1.2])\n",
    "pl.legend(loc = \"best\")\n",
    "pl.show()"
   ]
  },
  {
   "cell_type": "markdown",
   "metadata": {},
   "source": [
    "#### NAND gate:"
   ]
  },
  {
   "cell_type": "markdown",
   "metadata": {},
   "source": [
    "Training the NAND gate perceptron:"
   ]
  },
  {
   "cell_type": "code",
   "execution_count": 4,
   "metadata": {
    "scrolled": true
   },
   "outputs": [
    {
     "name": "stdout",
     "output_type": "stream",
     "text": [
      "[[ 1.]\n",
      " [ 1.]\n",
      " [ 1.]\n",
      " [ 0.]]\n"
     ]
    }
   ],
   "source": [
    "nand_gate_targets = np.matrix([[1], [1], [1], [0]])\n",
    "\n",
    "nand_gate = pcn.pcn(1, seed = 20180121)\n",
    "results = nand_gate.trainWeights(inputs_2D, nand_gate_targets)\n",
    "print(results)"
   ]
  },
  {
   "cell_type": "markdown",
   "metadata": {},
   "source": [
    "Plotting the results:"
   ]
  },
  {
   "cell_type": "code",
   "execution_count": 5,
   "metadata": {},
   "outputs": [
    {
     "data": {
      "image/png": "[encoded data removed]",
      "text/plain": [
       "<matplotlib.figure.Figure at 0x7fb0c820a208>"
      ]
     },
     "metadata": {},
     "output_type": "display_data"
    }
   ],
   "source": [
    "x = np.arange(-0.2, 1.2, 0.01)\n",
    "NAND_decision_boundary = lambda x : -(nand_gate.matNeurons[0].weights[1]*x - nand_gate.matNeurons[0].weights[0])/nand_gate.matNeurons[0].weights[2]\n",
    "NAND_x = NAND_decision_boundary(x)\n",
    "\n",
    "indices0 = np.squeeze(results == 0)\n",
    "indices1 = np.squeeze(results == 1)\n",
    "\n",
    "pl.plot(inputs_2D[indices1, 0], inputs_2D[indices1, 1], 'bx', label = '1')\n",
    "pl.plot(inputs_2D[indices0, 0], inputs_2D[indices0, 1], 'bo', label = '0')\n",
    "pl.plot(x, NAND_x, '--r', label = 'decision boundary')\n",
    "pl.xlabel('')\n",
    "pl.ylabel('input')\n",
    "pl.title('Decision boundary - NAND')\n",
    "pl.axis([-0.2, 1.2, -0.2, 1.2])\n",
    "pl.legend(loc = \"center left\")\n",
    "pl.show()"
   ]
  },
  {
   "cell_type": "markdown",
   "metadata": {},
   "source": [
    "#### NOR gate:"
   ]
  },
  {
   "cell_type": "markdown",
   "metadata": {},
   "source": [
    "Training the NOR gate perceptron:"
   ]
  },
  {
   "cell_type": "code",
   "execution_count": 6,
   "metadata": {
    "scrolled": true
   },
   "outputs": [
    {
     "name": "stdout",
     "output_type": "stream",
     "text": [
      "[[ 1.]\n",
      " [ 0.]\n",
      " [ 0.]\n",
      " [ 0.]]\n"
     ]
    }
   ],
   "source": [
    "nor_gate_targets = np.matrix([[1], [0], [0], [0]])\n",
    "\n",
    "nor_gate = pcn.pcn(1, seed = 20180121)\n",
    "results = nor_gate.trainWeights(inputs_2D, nor_gate_targets)\n",
    "print(results)"
   ]
  },
  {
   "cell_type": "markdown",
   "metadata": {},
   "source": [
    "Plotting the results:"
   ]
  },
  {
   "cell_type": "code",
   "execution_count": 7,
   "metadata": {},
   "outputs": [
    {
     "data": {
      "image/png": "[encoded data removed]",
      "text/plain": [
       "<matplotlib.figure.Figure at 0x7fb0c81ac400>"
      ]
     },
     "metadata": {},
     "output_type": "display_data"
    }
   ],
   "source": [
    "x = np.arange(-0.2, 1.2, 0.01)\n",
    "NOR_decision_boundary = lambda x : -(nor_gate.matNeurons[0].weights[1]*x - nor_gate.matNeurons[0].weights[0])/nor_gate.matNeurons[0].weights[2]\n",
    "NOR_x = NOR_decision_boundary(x)\n",
    "\n",
    "indices0 = np.squeeze(results == 0)\n",
    "indices1 = np.squeeze(results == 1)\n",
    "\n",
    "pl.plot(inputs_2D[indices1, 0], inputs_2D[indices1, 1], 'bx', label = '1')\n",
    "pl.plot(inputs_2D[indices0, 0], inputs_2D[indices0, 1], 'bo', label = '0')\n",
    "pl.plot(x, NOR_x, '--r', label = 'decision boundary')\n",
    "pl.xlabel('')\n",
    "pl.ylabel('input')\n",
    "pl.title('Decision boundary - NOR')\n",
    "pl.axis([-0.2, 1.2, -0.2, 1.2])\n",
    "pl.legend(loc = \"center right\")\n",
    "pl.show()"
   ]
  }
 ],
 "metadata": {
  "kernelspec": {
   "display_name": "Python 3",
   "language": "python",
   "name": "python3"
  },
  "language_info": {
   "codemirror_mode": {
    "name": "ipython",
    "version": 3
   },
   "file_extension": ".py",
   "mimetype": "text/x-python",
   "name": "python",
   "nbconvert_exporter": "python",
   "pygments_lexer": "ipython3",
   "version": "3.6.1"
  }
 },
 "nbformat": 4,
 "nbformat_minor": 2
}
