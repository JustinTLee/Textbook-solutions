{
 "cells": [
  {
   "cell_type": "markdown",
   "metadata": {},
   "source": [
    "# Problem 03.06"
   ]
  },
  {
   "cell_type": "markdown",
   "metadata": {},
   "source": [
    "## Problem:"
   ]
  },
  {
   "cell_type": "markdown",
   "metadata": {},
   "source": [
    "There is a link to a very large dataset of handwritten figures on the book website (the MNIST dataset). Download it and use a Perceptron to learn about the dataset."
   ]
  },
  {
   "cell_type": "markdown",
   "metadata": {},
   "source": [
    "## Solution:"
   ]
  },
  {
   "cell_type": "markdown",
   "metadata": {},
   "source": [
    "Let's first import essential modules:"
   ]
  },
  {
   "cell_type": "code",
   "execution_count": 1,
   "metadata": {},
   "outputs": [],
   "source": [
    "import numpy as np\n",
    "import pandas as pd\n",
    "import pcn\n",
    "import math\n",
    "from sklearn.metrics import confusion_matrix"
   ]
  },
  {
   "cell_type": "markdown",
   "metadata": {},
   "source": [
    "Load the dataset:"
   ]
  },
  {
   "cell_type": "code",
   "execution_count": 2,
   "metadata": {},
   "outputs": [],
   "source": [
    "data = pd.read_csv(\"../../../datasets/MNIST/mnist_train.csv\")"
   ]
  },
  {
   "cell_type": "markdown",
   "metadata": {},
   "source": [
    "Next, we will add appropriate columns headings:"
   ]
  },
  {
   "cell_type": "code",
   "execution_count": 3,
   "metadata": {},
   "outputs": [
    {
     "data": {
      "text/plain": [
       "0        0\n",
       "1        4\n",
       "2        1\n",
       "3        9\n",
       "4        2\n",
       "5        1\n",
       "6        3\n",
       "7        1\n",
       "8        4\n",
       "9        3\n",
       "10       5\n",
       "11       3\n",
       "12       6\n",
       "13       1\n",
       "14       7\n",
       "15       2\n",
       "16       8\n",
       "17       6\n",
       "18       9\n",
       "19       4\n",
       "20       0\n",
       "21       9\n",
       "22       1\n",
       "23       1\n",
       "24       2\n",
       "25       4\n",
       "26       3\n",
       "27       2\n",
       "28       7\n",
       "29       3\n",
       "        ..\n",
       "59969    2\n",
       "59970    2\n",
       "59971    0\n",
       "59972    9\n",
       "59973    2\n",
       "59974    4\n",
       "59975    6\n",
       "59976    7\n",
       "59977    3\n",
       "59978    1\n",
       "59979    3\n",
       "59980    6\n",
       "59981    6\n",
       "59982    2\n",
       "59983    1\n",
       "59984    2\n",
       "59985    6\n",
       "59986    0\n",
       "59987    7\n",
       "59988    8\n",
       "59989    9\n",
       "59990    2\n",
       "59991    9\n",
       "59992    5\n",
       "59993    1\n",
       "59994    8\n",
       "59995    3\n",
       "59996    5\n",
       "59997    6\n",
       "59998    8\n",
       "Name: label, Length: 59999, dtype: int64"
      ]
     },
     "execution_count": 3,
     "metadata": {},
     "output_type": "execute_result"
    }
   ],
   "source": [
    "column_heads = [\"{:03d}\".format(x) for x in range(1, 785)]\n",
    "column_heads.insert(0, \"label\")\n",
    "data.columns = column_heads\n",
    "\n",
    "labels = data[\"label\"]\n",
    "data.pop(\"label\")"
   ]
  },
  {
   "cell_type": "markdown",
   "metadata": {},
   "source": [
    "We will change the labels vector into a labels matrix:"
   ]
  },
  {
   "cell_type": "code",
   "execution_count": 4,
   "metadata": {},
   "outputs": [],
   "source": [
    "matLabels = np.zeros((data.shape[0], 10))\n",
    "for k in range(labels.shape[0]):\n",
    "    matLabels[k, labels[k]] = 1"
   ]
  },
  {
   "cell_type": "markdown",
   "metadata": {},
   "source": [
    "Set training parameters:"
   ]
  },
  {
   "cell_type": "code",
   "execution_count": 5,
   "metadata": {},
   "outputs": [],
   "source": [
    "nTraining = 5000"
   ]
  },
  {
   "cell_type": "markdown",
   "metadata": {},
   "source": [
    "Break up the data into training and cross-validation datasets:"
   ]
  },
  {
   "cell_type": "code",
   "execution_count": 6,
   "metadata": {},
   "outputs": [],
   "source": [
    "trainData = data[:nTraining].as_matrix()\n",
    "matTrainLabels = matLabels[:nTraining, :]\n",
    "trainLabels = labels[:nTraining].as_matrix()\n",
    "\n",
    "cvData = data[nTraining:].as_matrix()\n",
    "matCVLabels = matLabels[nTraining:, :]\n",
    "cvLabels = labels[nTraining:].as_matrix()"
   ]
  },
  {
   "cell_type": "markdown",
   "metadata": {},
   "source": [
    "Train the model:"
   ]
  },
  {
   "cell_type": "code",
   "execution_count": 7,
   "metadata": {},
   "outputs": [],
   "source": [
    "p = pcn.pcn(10, eta = 0.25, iter = 5000)\n",
    "trainoutput = p.trainWeights(trainData, matTrainLabels)\n",
    "\n",
    "trainpred = np.zeros((np.shape(trainoutput)[0], 1))\n",
    "\n",
    "for k in range(np.shape(trainoutput)[0]):\n",
    "    if trainoutput[k, 0] == 1:\n",
    "        trainpred[k] = 0\n",
    "    elif trainoutput[k, 1] == 1:\n",
    "        trainpred[k] = 1\n",
    "    elif trainoutput[k, 2] == 1:\n",
    "        trainpred[k] = 2\n",
    "    elif trainoutput[k, 3] == 1:\n",
    "        trainpred[k] = 3\n",
    "    elif trainoutput[k, 4] == 1:\n",
    "        trainpred[k] = 4\n",
    "    elif trainoutput[k, 5] == 1:\n",
    "        trainpred[k] = 5\n",
    "    elif trainoutput[k, 6] == 1:\n",
    "        trainpred[k] = 6\n",
    "    elif trainoutput[k, 7] == 1:\n",
    "        trainpred[k] = 7\n",
    "    elif trainoutput[k, 8] == 1:\n",
    "        trainpred[k] = 8\n",
    "    elif trainoutput[k, 9] == 1:\n",
    "        trainpred[k] = 9\n",
    "    else:\n",
    "        trainpred[k] = 0"
   ]
  },
  {
   "cell_type": "markdown",
   "metadata": {},
   "source": [
    "Check how the model did against training data:"
   ]
  },
  {
   "cell_type": "code",
   "execution_count": 8,
   "metadata": {},
   "outputs": [
    {
     "name": "stdout",
     "output_type": "stream",
     "text": [
      "[[479   0   0   0   0   0   0   0   0   0]\n",
      " [  0 563   0   0   0   0   0   0   0   0]\n",
      " [  2   0 486   0   0   0   0   0   0   0]\n",
      " [ 21   0   5 458   0   1   0   0   8   0]\n",
      " [  0   0   7   0 528   0   0   0   0   0]\n",
      " [  1   0   5   3   0 424   0   0   0   0]\n",
      " [  0   0   7   0   0   2 492   0   0   0]\n",
      " [  0   0   4   4   0   0   0 543   0   0]\n",
      " [  9   0   7   0   0   1   0   0 445   0]\n",
      " [ 57   0   3   0   0   0   0   0  56 379]]\n",
      "95.94\n"
     ]
    }
   ],
   "source": [
    "conf_mat = confusion_matrix(trainLabels, trainpred)\n",
    "percentRight = np.trace(conf_mat)/np.sum(conf_mat)*100\n",
    "print(conf_mat)\n",
    "print(percentRight)"
   ]
  },
  {
   "cell_type": "markdown",
   "metadata": {},
   "source": [
    "Predict the cross-validation data:"
   ]
  },
  {
   "cell_type": "code",
   "execution_count": 9,
   "metadata": {},
   "outputs": [],
   "source": [
    "cvoutput = p.forwardPredict(cvData)\n",
    "\n",
    "cvpred = np.zeros((np.shape(cvoutput)[0], 1))\n",
    "\n",
    "for k in range(np.shape(cvoutput)[0]):\n",
    "    if cvoutput[k, 0] == 1:\n",
    "        cvpred[k] = 0\n",
    "    elif cvoutput[k, 1] == 1:\n",
    "        cvpred[k] = 1\n",
    "    elif cvoutput[k, 2] == 1:\n",
    "        cvpred[k] = 2\n",
    "    elif cvoutput[k, 3] == 1:\n",
    "        cvpred[k] = 3\n",
    "    elif cvoutput[k, 4] == 1:\n",
    "        cvpred[k] = 4\n",
    "    elif cvoutput[k, 5] == 1:\n",
    "        cvpred[k] = 5\n",
    "    elif cvoutput[k, 6] == 1:\n",
    "        cvpred[k] = 6\n",
    "    elif cvoutput[k, 7] == 1:\n",
    "        cvpred[k] = 7\n",
    "    elif cvoutput[k, 8] == 1:\n",
    "        cvpred[k] = 8\n",
    "    elif cvoutput[k, 9] == 1:\n",
    "        cvpred[k] = 9\n",
    "    else:\n",
    "        cvpred[k] = 0"
   ]
  },
  {
   "cell_type": "markdown",
   "metadata": {},
   "source": [
    "Check how the model did against the cross-validation data:"
   ]
  },
  {
   "cell_type": "code",
   "execution_count": 10,
   "metadata": {},
   "outputs": [
    {
     "name": "stdout",
     "output_type": "stream",
     "text": [
      "[[5313    0   39    6    9    9   16   12   39    1]\n",
      " [ 105 5843   36   27    6   17    5    8  129    3]\n",
      " [ 348  111 4645   77   35    9   43   50  143    9]\n",
      " [ 505   67  210 4413    7  158   16   41  206   15]\n",
      " [ 260   31  156   74 4550   15   26   18  125   52]\n",
      " [ 505   34  135  358  150 3539   59   23  168   16]\n",
      " [ 356   34  373   18  194  246 4173    4   17    2]\n",
      " [ 322   40  160  273   69   41    3 4669   31  106]\n",
      " [ 505  123  244  156   71  237   46   35 3956   16]\n",
      " [ 964   65   55  131  303  133    2  351  532 2918]]\n",
      "80.0360006546\n"
     ]
    }
   ],
   "source": [
    "conf_mat = confusion_matrix(cvLabels, cvpred)\n",
    "percentRight = np.trace(conf_mat)/np.sum(conf_mat)*100\n",
    "print(conf_mat)\n",
    "print(percentRight)"
   ]
  }
 ],
 "metadata": {
  "kernelspec": {
   "display_name": "Python 3",
   "language": "python",
   "name": "python3"
  },
  "language_info": {
   "codemirror_mode": {
    "name": "ipython",
    "version": 3
   },
   "file_extension": ".py",
   "mimetype": "text/x-python",
   "name": "python",
   "nbconvert_exporter": "python",
   "pygments_lexer": "ipython3",
   "version": "3.6.3"
  }
 },
 "nbformat": 4,
 "nbformat_minor": 2
}
