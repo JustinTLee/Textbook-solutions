{
 "cells": [
  {
   "cell_type": "markdown",
   "metadata": {},
   "source": [
    "# Problem 03.01"
   ]
  },
  {
   "cell_type": "markdown",
   "metadata": {},
   "source": [
    "## Problem:"
   ]
  },
  {
   "cell_type": "markdown",
   "metadata": {},
   "source": [
    "Consider a neuron with 2 inputs, 1 output, and a threshold activation function. If the two weights are w1 = 1 and w2 = 1, and the bias is b = −1.5, then what is the output for input (0, 0)? What about for inputs (1, 0), (0, 1), and (1, 1)? Draw the discriminant function for this function, and write down its equation. Does it correspond to any particular logic gate?"
   ]
  },
  {
   "cell_type": "markdown",
   "metadata": {},
   "source": [
    "## Solution:"
   ]
  },
  {
   "cell_type": "markdown",
   "metadata": {},
   "source": [
    "The weights and bias create a separation line that be written like the following:\n",
    "\n",
    "\\begin{align*}\n",
    "\\vec{w}^{T} \\cdot \\vec{x} + b &= 0 \\\\\n",
    "w_{1} x_{1} + w_{2} x_{2} + b &= 0 \\\\\n",
    "x_{2} &= -\\frac{w_{1}}{w_{2}}x_{1} - \\frac{b}{w_{2}} \\\\\n",
    "\\end{align*}\n",
    "\n",
    "Assuming that $w_{1} = w_{2} = 1$ and $b = -1.5$, the line can be written like this:\n",
    "\n",
    "\\begin{equation*}\n",
    "x_{2} = -x_{1} + 1.5\n",
    "\\end{equation*}\n",
    "\n",
    "Plotting this yields:"
   ]
  },
  {
   "cell_type": "code",
   "execution_count": 14,
   "metadata": {},
   "outputs": [
    {
     "data": {
      "image/png": "[encoded data removed]",
      "text/plain": [
       "<matplotlib.figure.Figure at 0x7f6e58b57b00>"
      ]
     },
     "metadata": {},
     "output_type": "display_data"
    }
   ],
   "source": [
    "import numpy as np\n",
    "import pylab as pl\n",
    "\n",
    "x1 = np.arange(0, 1.5, 0.1)\n",
    "x2 = -x1 + 1.5\n",
    "\n",
    "pl.figure(1)\n",
    "pl.plot(x1, x2, '--k')\n",
    "pl.plot(0, 0, 'xk', label = \"Class #1\")\n",
    "pl.plot(0, 1, 'xk', label = \"Class #1\")\n",
    "pl.plot(1, 0, 'xk', label = \"Class #1\")\n",
    "pl.plot(1, 1, 'ok', label = \"Class #2\")\n",
    "pl.axis([-0.1, 1.1, -0.1, 1.1])\n",
    "pl.legend(loc = \"best\")\n",
    "pl.show()"
   ]
  },
  {
   "cell_type": "markdown",
   "metadata": {},
   "source": [
    "The output is an AND gate."
   ]
  }
 ],
 "metadata": {
  "kernelspec": {
   "display_name": "Python 3",
   "language": "python",
   "name": "python3"
  },
  "language_info": {
   "codemirror_mode": {
    "name": "ipython",
    "version": 3
   },
   "file_extension": ".py",
   "mimetype": "text/x-python",
   "name": "python",
   "nbconvert_exporter": "python",
   "pygments_lexer": "ipython3",
   "version": "3.6.1"
  }
 },
 "nbformat": 4,
 "nbformat_minor": 2
}
