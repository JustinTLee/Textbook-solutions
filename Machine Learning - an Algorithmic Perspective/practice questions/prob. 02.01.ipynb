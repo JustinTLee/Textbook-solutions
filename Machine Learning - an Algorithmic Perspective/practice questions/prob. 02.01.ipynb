{
 "cells": [
  {
   "cell_type": "markdown",
   "metadata": {},
   "source": [
    "# Problem 02.01"
   ]
  },
  {
   "cell_type": "markdown",
   "metadata": {},
   "source": [
    "## Problem:"
   ]
  },
  {
   "cell_type": "markdown",
   "metadata": {},
   "source": [
    "Use Bayes’ rule to solve the following problem: At a party you meet a person who claims to have been to the same school as you. You vaguely recognise them, but can’t remember properly, so decide to work out how likely it is, given that:\n",
    "\n",
    "* 1 in 2 of the people you vaguely recognise went to school with you\n",
    "* 1 in 10 of the people at the party went to school with you\n",
    "* 1 in 5 people at the party you vaguely recognise"
   ]
  },
  {
   "cell_type": "markdown",
   "metadata": {},
   "source": [
    "## Solution:"
   ]
  },
  {
   "cell_type": "markdown",
   "metadata": {},
   "source": [
    "* 1 in 2 of the people you vaguely recognise went to school with you\n",
    "\n",
    "\\begin{equation*}\n",
    "\\text{p} \\left( \\text{schoolmates} \\, | \\, \\text{recognize} \\right) = 0.5\n",
    "\\end{equation*}\n",
    "\n",
    "* 1 in 10 of the people at the party went to school with you\n",
    "\n",
    "\\begin{equation*}\n",
    "\\text{p} \\left( \\text{schoolmates} \\right) = 0.1\n",
    "\\end{equation*}\n",
    "\n",
    "* 1 in 5 people at the party you vaguely recognise\n",
    "\n",
    "\\begin{equation*}\n",
    "\\text{p} \\left( \\text{recognize} \\right) = 0.5\n",
    "\\end{equation*}\n",
    "\n",
    "The probability of recognizing that person given that they went to school with you is given by Bayes' rule:\n",
    "\n",
    "\\begin{align*}\n",
    "\\text{p} \\left( \\text{recognize} \\, | \\, \\text{schoolmates} \\right) &= \\frac{\\text{p} \\left( \\text{schoolmates} \\, | \\, \\text{recognize} \\right) \\text{p} \\left( \\text{schoolmates} \\right)}{\\text{p} \\left( \\text{recognize} \\right)} \\\\\n",
    "&= \\frac{(0.5)(0.1)}{(0.5)} \\\\\n",
    "&= 0.1\n",
    "\\end{align*}\n",
    "\n",
    "There is a probability of $0.1$ that you will recognize that person given that they went to school with you."
   ]
  }
 ],
 "metadata": {
  "kernelspec": {
   "display_name": "Python 3",
   "language": "python",
   "name": "python3"
  },
  "language_info": {
   "codemirror_mode": {
    "name": "ipython",
    "version": 3
   },
   "file_extension": ".py",
   "mimetype": "text/x-python",
   "name": "python",
   "nbconvert_exporter": "python",
   "pygments_lexer": "ipython3",
   "version": "3.6.1"
  }
 },
 "nbformat": 4,
 "nbformat_minor": 2
}
