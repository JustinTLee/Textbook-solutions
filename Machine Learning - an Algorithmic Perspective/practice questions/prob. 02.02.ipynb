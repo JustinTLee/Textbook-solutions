{
 "cells": [
  {
   "cell_type": "markdown",
   "metadata": {},
   "source": [
    "# Problem 02.02"
   ]
  },
  {
   "cell_type": "markdown",
   "metadata": {},
   "source": [
    "## Problem:"
   ]
  },
  {
   "cell_type": "markdown",
   "metadata": {},
   "source": [
    "Consider how using the risk calculation in Section 2.3.1 would change the naïve Bayes classifier."
   ]
  },
  {
   "cell_type": "markdown",
   "metadata": {},
   "source": [
    "## Solution:"
   ]
  },
  {
   "cell_type": "markdown",
   "metadata": {},
   "source": [
    "The naïve Bayes classifier selects the MAP estimate for a particular classification. This means that the class with the highest probability given the data will be chosen.\n",
    "\n",
    "However, even though a class has a high probability given the data, it may not be the right class. If it is not the right class, that particular data point is misclassified. The risk calculation determines gives an estimate of the likelihood of misclassification. Using an algorithm based on risk calculation would change the nature of the classification problem by selecting the class that poses the minimum risk as opposed to the most likely class. This will not necessarily be the MAP estimate, thus changing the end result of the naïve Bayes classifier."
   ]
  }
 ],
 "metadata": {
  "kernelspec": {
   "display_name": "Python 3",
   "language": "python",
   "name": "python3"
  },
  "language_info": {
   "codemirror_mode": {
    "name": "ipython",
    "version": 3
   },
   "file_extension": ".py",
   "mimetype": "text/x-python",
   "name": "python",
   "nbconvert_exporter": "python",
   "pygments_lexer": "ipython3",
   "version": "3.6.1"
  }
 },
 "nbformat": 4,
 "nbformat_minor": 2
}
