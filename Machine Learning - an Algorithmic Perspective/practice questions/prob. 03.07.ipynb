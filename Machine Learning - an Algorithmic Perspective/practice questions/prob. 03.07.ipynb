{
 "cells": [
  {
   "cell_type": "markdown",
   "metadata": {},
   "source": [
    "# Problem 03.06"
   ]
  },
  {
   "cell_type": "markdown",
   "metadata": {},
   "source": [
    "## Problem:"
   ]
  },
  {
   "cell_type": "markdown",
   "metadata": {},
   "source": [
    "The decision boundary hyperplane found by the Perceptron has equation $y\\left( \\vec{x} \\right) = w^{T} x + b = 0$. For a point $ \\vec{x}'$, minimise $||\\vec{x} -  \\vec{x}'||^{2}$ to show that the shortest distance from the point to the hyperplane is $\\left|y\\left( \\vec{x} \\right)\\right|/\\left|\\left|\\left( \\vec{w} \\right)\\right|\\right|$."
   ]
  },
  {
   "cell_type": "markdown",
   "metadata": {},
   "source": [
    "## Solution:"
   ]
  },
  {
   "cell_type": "markdown",
   "metadata": {},
   "source": [
    "The distance between $\\vec{x}$ and $\\vec{x}'$ can be expressed as $\\left|\\left|\\vec{x} - \\vec{x}' \\right|\\right|$. The weights vector is perpendicular to the separating hyperplane. Therefore, the orthogonal projection of point $\\vec{x}'$ onto the line $y \\left(\\vec{x})$ involves the component of $\\vec{w}^{T}$ that is equal in length to $\\left|\\left|\\vec{x} - \\vec{x}' \\right|\\right|$. That can be expressed as:\n",
    "\n",
    "\\begin{equation*}\n",
    "\\frac{|y \\left( \\vec{x}' \\right)|}{||\\vec{w}||}\n",
    "\\end{equation*}"
   ]
  }
 ],
 "metadata": {
  "kernelspec": {
   "display_name": "Python 3",
   "language": "python",
   "name": "python3"
  },
  "language_info": {
   "codemirror_mode": {
    "name": "ipython",
    "version": 3
   },
   "file_extension": ".py",
   "mimetype": "text/x-python",
   "name": "python",
   "nbconvert_exporter": "python",
   "pygments_lexer": "ipython3",
   "version": "3.6.3"
  }
 },
 "nbformat": 4,
 "nbformat_minor": 2
}
