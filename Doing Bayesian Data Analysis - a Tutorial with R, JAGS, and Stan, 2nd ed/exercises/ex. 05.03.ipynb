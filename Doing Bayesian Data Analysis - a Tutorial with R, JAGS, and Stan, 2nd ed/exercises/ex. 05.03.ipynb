{
 "cells": [
  {
   "cell_type": "markdown",
   "metadata": {},
   "source": [
    "# Exercise 05.03"
   ]
  },
  {
   "cell_type": "markdown",
   "metadata": {},
   "source": [
    "## Problem:"
   ]
  },
  {
   "cell_type": "markdown",
   "metadata": {},
   "source": [
    "**[Purpose: To see a hands-on example of data-order invariance.]**\n",
    "\n",
    "Consider again the disease and diagnostic test of the previous two exercises.\n",
    "\n",
    "(A) Suppose that a person selected at random from the population gets the test and it comes back negative. Compute the probability that the person has the disease.\n",
    "\n",
    "(B) The person then gets re-tested, and on the second test the result is positive. Compute the probability that the person has the disease. How does the result compare with your answer to Exercise 5.1?"
   ]
  },
  {
   "cell_type": "markdown",
   "metadata": {},
   "source": [
    "## Solution:"
   ]
  },
  {
   "cell_type": "markdown",
   "metadata": {},
   "source": [
    "#### A."
   ]
  },
  {
   "cell_type": "markdown",
   "metadata": {},
   "source": [
    "The following conditional probabilities are given of the treatment results given disease presence:\n",
    "\n",
    "\\begin{align*}\n",
    "p(\\text{T} \\, = \\, \\text{positive} \\, | \\, \\text{D} \\, = \\, \\text{positive}) &= 0.99 \\\\\n",
    "p(\\text{T} \\, = \\, \\text{negative} \\, | \\, \\text{D} \\, = \\, \\text{positive}) &= 0.01 \\\\\n",
    "p(\\text{T} \\, = \\, \\text{positive} \\, | \\, \\text{D} \\, = \\, \\text{negative}) &= 0.05 \\\\\n",
    "p(\\text{T} \\, = \\, \\text{negative} \\, | \\, \\text{D} \\, = \\, \\text{negative}) &= 0.95 \\\\\n",
    "\\end{align*}\n",
    "\n",
    "They are represented in the following equations:"
   ]
  },
  {
   "cell_type": "code",
   "execution_count": 4,
   "metadata": {},
   "outputs": [],
   "source": [
    "# probability of T = + given D = +\n",
    "pTPos_DPos = 0.99\n",
    "\n",
    "# probability of T = - given D = +\n",
    "pTNeg_DPos = 0.01\n",
    "\n",
    "# probability of T = + given D = -\n",
    "pTPos_DNeg = 0.05\n",
    "\n",
    "# probability of T = - given D = -\n",
    "pTNeg_DNeg = 0.95\n",
    "\n",
    "# background probability of D = +\n",
    "pDPos = 0.001\n",
    "\n",
    "# background probability of D = -\n",
    "pDNeg = 1 - pDPos"
   ]
  },
  {
   "cell_type": "markdown",
   "metadata": {},
   "source": [
    "Table 5.4 gives the following information as the joint distribution of the test results and disease presence:\n",
    "\n",
    "<table>\n",
    "    <th>\n",
    "        <td>Disease Present</td>\n",
    "        <td>Disease Absent</td>\n",
    "        <td>Marginal (test result)</td>\n",
    "    </th>\n",
    "    <tr>\n",
    "        <td>Positive Test</td>\n",
    "        <td>0.00099</td>\n",
    "        <td>0.04995</td>\n",
    "        <td>**0.05094**</td>\n",
    "    </tr>\n",
    "    <tr>\n",
    "        <td>Negative Test</td>\n",
    "        <td>0.00001</td>\n",
    "        <td>0.94905</td>\n",
    "        <td>**0.94906**</td>\n",
    "    </tr>\n",
    "    <tr>\n",
    "        <td>Marginal (disease presence)</td>\n",
    "        <td>**0.00100**</td>\n",
    "        <td>**0.99900**</td>\n",
    "        <td>**1.00000**</td>\n",
    "    </tr>\n",
    "</table>"
   ]
  },
  {
   "cell_type": "markdown",
   "metadata": {},
   "source": [
    "The probability that an individual has the disease given that the test was negative is given by the following equation:\n",
    "\n",
    "\\begin{equation}\n",
    "p(\\text{D} \\, = \\, \\text{positive} \\, | \\, \\text{T} \\, = \\, \\text{negative}) = \\frac{p(\\text{T} \\, = \\, \\text{negative}, \\, \\text{D} \\, = \\, \\text{positive})}{p(\\text{T} \\, = \\, \\text{negative})}\n",
    "\\end{equation}\n",
    "\n",
    "The following calculation can be performed in R:"
   ]
  },
  {
   "cell_type": "code",
   "execution_count": 2,
   "metadata": {},
   "outputs": [
    {
     "name": "stdout",
     "output_type": "stream",
     "text": [
      "[1] 1.053674e-05\n"
     ]
    }
   ],
   "source": [
    "pDPos_TNeg = 0.00001/0.94906\n",
    "print(pDPos_TNeg)"
   ]
  },
  {
   "cell_type": "markdown",
   "metadata": {},
   "source": [
    "There is an almost negigent probability that a person testing negative will have the disease."
   ]
  },
  {
   "cell_type": "markdown",
   "metadata": {},
   "source": [
    "#### B."
   ]
  },
  {
   "cell_type": "markdown",
   "metadata": {},
   "source": [
    "Assume that the $p(\\text{D} \\, = \\, \\text{positive} \\, | \\, \\text{T} \\, = \\, \\text{negative})$ that was just calculated is now the new $p(\\text{D} \\, = \\, \\text{positive})$ value. That is, the posterior becomes the next prior. Now:\n",
    "\n",
    "\\begin{equation*}\n",
    "p(\\text{D} \\, = \\, \\text{negative}) = 1 - p(\\text{D} \\, = \\, \\text{positive})\n",
    "\\end{equation*}\n",
    "\n",
    "Finding the new posterior that someone has the disease given that the re-test was positive can be performed in R:"
   ]
  },
  {
   "cell_type": "code",
   "execution_count": 6,
   "metadata": {},
   "outputs": [
    {
     "name": "stdout",
     "output_type": "stream",
     "text": [
      "[1] 0.0002085862\n"
     ]
    }
   ],
   "source": [
    "# set the posterior as the new prior\n",
    "pDPos2 = pDPos_TNeg\n",
    "pDNeg2 = 1 - pDPos2\n",
    "\n",
    "# T = + is the sum of p(T = +, D = +) and p(T = +, D = -)\n",
    "pTPos2 = pTPos_DPos*pDPos2 + pTPos_DNeg*pDNeg2\n",
    "\n",
    "pDPos_TPos2 = pTPos_DPos*pDPos2/pTPos2\n",
    "print(pDPos_TPos2)"
   ]
  },
  {
   "cell_type": "markdown",
   "metadata": {},
   "source": [
    "Unsurprisingly, this result is the same as the one from ex. 05.01."
   ]
  }
 ],
 "metadata": {
  "kernelspec": {
   "display_name": "R",
   "language": "R",
   "name": "ir"
  },
  "language_info": {
   "codemirror_mode": "r",
   "file_extension": ".r",
   "mimetype": "text/x-r-source",
   "name": "R",
   "pygments_lexer": "r",
   "version": "3.4.1"
  }
 },
 "nbformat": 4,
 "nbformat_minor": 2
}
