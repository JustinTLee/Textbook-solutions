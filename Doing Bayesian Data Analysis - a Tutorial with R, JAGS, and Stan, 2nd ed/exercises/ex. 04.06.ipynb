{
 "cells": [
  {
   "cell_type": "markdown",
   "metadata": {},
   "source": [
    "# Exercise 04.06"
   ]
  },
  {
   "cell_type": "markdown",
   "metadata": {},
   "source": [
    "## Problem:"
   ]
  },
  {
   "cell_type": "markdown",
   "metadata": {},
   "source": [
    "**[Purpose: Recognize and work with the fact that Equation 4.9 can be solved for the joint probability, which will be crucial for developing Bayes’ theorem.]**\n",
    "\n",
    "School children were surveyed regarding their favorite foods. Of the total sample, 20% were 1st graders, 20% were 6th graders, and 60% were 11th graders. For each grade, the following table shows the proportion of respondents that chose each of three foods as their favorite:\n",
    "\n",
    "<table>\n",
    "  <tr>\n",
    "    <th> </th>\n",
    "    <th>Ice cream</th>\n",
    "    <th>Fruit</th>\n",
    "    <th>French fries</th>\n",
    "  </tr>\n",
    "  <tr>\n",
    "    <td>1st graders</td>\n",
    "    <td>$0.3$</td>\n",
    "    <td>$0.6$</td>\n",
    "    <td>$0.1$</td>\n",
    "  </tr>\n",
    "  <tr>\n",
    "    <td>6th graders</td>\n",
    "    <td>$0.6$</td>\n",
    "    <td>$0.3$</td>\n",
    "    <td>$0.1$</td>\n",
    "  </tr>\n",
    "  <tr>\n",
    "    <td>11th graders</td>\n",
    "    <td>$0.3$</td>\n",
    "    <td>$0.1$</td>\n",
    "    <td>$0.6$</td>\n",
    "  </tr>\n",
    "</table>\n",
    "\n",
    "From that information, construct a table of joint probabilities of grade and favorite food. Also, say whether grade and favorite food are independent or not, and how you ascertained the answer. Hint: You are given p(grade) and p(food|grade). You need to determine p(grade,food)."
   ]
  },
  {
   "cell_type": "markdown",
   "metadata": {},
   "source": [
    "## Solution:"
   ]
  },
  {
   "cell_type": "markdown",
   "metadata": {},
   "source": [
    "Given the conditional probability, the joint distribution would be:\n",
    "\n",
    "\\begin{equation*}\n",
    "p(\\text{grade}, \\text{food}) = p(\\text{food} \\, | \\, \\text{grade})p(\\text{grade})\n",
    "\\end{equation*}\n",
    "\n",
    "The joint distribution can be easily done in R:"
   ]
  },
  {
   "cell_type": "code",
   "execution_count": 12,
   "metadata": {},
   "outputs": [
    {
     "data": {
      "text/html": [
       "0.5"
      ],
      "text/latex": [
       "0.5"
      ],
      "text/markdown": [
       "0.5"
      ],
      "text/plain": [
       "[1] 0.5"
      ]
     },
     "metadata": {},
     "output_type": "display_data"
    }
   ],
   "source": []
  },
  {
   "cell_type": "code",
   "execution_count": 22,
   "metadata": {},
   "outputs": [
    {
     "data": {
      "text/html": [
       "<table>\n",
       "<tbody>\n",
       "\t<tr><td>0.06</td><td>0.12</td><td>0.02</td></tr>\n",
       "\t<tr><td>0.12</td><td>0.06</td><td>0.02</td></tr>\n",
       "\t<tr><td>0.18</td><td>0.06</td><td>0.36</td></tr>\n",
       "</tbody>\n",
       "</table>\n"
      ],
      "text/latex": [
       "\\begin{tabular}{lll}\n",
       "\t 0.06 & 0.12 & 0.02\\\\\n",
       "\t 0.12 & 0.06 & 0.02\\\\\n",
       "\t 0.18 & 0.06 & 0.36\\\\\n",
       "\\end{tabular}\n"
      ],
      "text/markdown": [
       "\n",
       "| 0.06 | 0.12 | 0.02 | \n",
       "| 0.12 | 0.06 | 0.02 | \n",
       "| 0.18 | 0.06 | 0.36 | \n",
       "\n",
       "\n"
      ],
      "text/plain": [
       "     [,1] [,2] [,3]\n",
       "[1,] 0.06 0.12 0.02\n",
       "[2,] 0.12 0.06 0.02\n",
       "[3,] 0.18 0.06 0.36"
      ]
     },
     "metadata": {},
     "output_type": "display_data"
    }
   ],
   "source": [
    "pFoodGivenGrade = matrix(c(0.3, 0.6, 0.1, 0.6, 0.3, 0.1, 0.3, 0.1, 0.6),\n",
    "                         nrow = 3, ncol = 3, byrow = TRUE)\n",
    "pGrade = c(0.2, 0.2, 0.6)\n",
    "\n",
    "pFoodGrade = pFoodGivenGrade * pGrade\n",
    "pFoodGrade"
   ]
  }
 ],
 "metadata": {
  "kernelspec": {
   "display_name": "R",
   "language": "R",
   "name": "ir"
  },
  "language_info": {
   "codemirror_mode": "r",
   "file_extension": ".r",
   "mimetype": "text/x-r-source",
   "name": "R",
   "pygments_lexer": "r",
   "version": "3.4.1"
  }
 },
 "nbformat": 4,
 "nbformat_minor": 2
}
