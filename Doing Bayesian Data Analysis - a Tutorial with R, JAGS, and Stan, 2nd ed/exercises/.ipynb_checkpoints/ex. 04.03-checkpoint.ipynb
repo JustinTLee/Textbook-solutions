{
 "cells": [
  {
   "cell_type": "markdown",
   "metadata": {},
   "source": [
    "# Exercise 04.03"
   ]
  },
  {
   "cell_type": "markdown",
   "metadata": {},
   "source": [
    "## Problem:"
   ]
  },
  {
   "cell_type": "markdown",
   "metadata": {},
   "source": [
    "**[Purpose: To have you work through an example of the logic presented in Section 4.2.1.2.]**\n",
    "\n",
    "Determine the exact probability of drawing a 10 from a shuffled pinochle deck. (In a pinochle deck, there are 48 cards. There are six values: 9, 10, Jack, Queen, King, Ace. There are two copies of each value in each of the standard four suits: hearts, diamonds, clubs, spades.)\n",
    "\n",
    "(A) What is the probability of getting a 10? <br/>\n",
    "(B) What is the probability of getting a 10 or Jack?"
   ]
  },
  {
   "cell_type": "markdown",
   "metadata": {},
   "source": [
    "## Solution:"
   ]
  },
  {
   "cell_type": "markdown",
   "metadata": {},
   "source": [
    "#### A."
   ]
  },
  {
   "cell_type": "markdown",
   "metadata": {},
   "source": [
    "The probability of getting a $10$ is:\n",
    "\n",
    "\\begin{equation*}\n",
    "p(\\text{10}) = \\frac{8 \\: \\text{10's cards}}{48 \\: \\text{possible cards}} = \\frac{1}{24}\n",
    "\\end{equation*}"
   ]
  },
  {
   "cell_type": "markdown",
   "metadata": {},
   "source": [
    "#### B."
   ]
  },
  {
   "cell_type": "markdown",
   "metadata": {},
   "source": [
    "The probability of getting a $10$ or a Jack is:\n",
    "\n",
    "\\begin{equation*}\n",
    "p(\\text{10 or Jack}) = \\frac{8 \\: \\text{10's cards}}{48 \\: \\text{possible cards}} + \\frac{8 \\: \\text{Jack cards}}{48 \\: \\text{possible cards}} = \\frac{1}{3}\n",
    "\\end{equation*}"
   ]
  }
 ],
 "metadata": {
  "kernelspec": {
   "display_name": "R",
   "language": "R",
   "name": "ir"
  },
  "language_info": {
   "codemirror_mode": "r",
   "file_extension": ".r",
   "mimetype": "text/x-r-source",
   "name": "R",
   "pygments_lexer": "r",
   "version": "3.4.1"
  }
 },
 "nbformat": 4,
 "nbformat_minor": 2
}
