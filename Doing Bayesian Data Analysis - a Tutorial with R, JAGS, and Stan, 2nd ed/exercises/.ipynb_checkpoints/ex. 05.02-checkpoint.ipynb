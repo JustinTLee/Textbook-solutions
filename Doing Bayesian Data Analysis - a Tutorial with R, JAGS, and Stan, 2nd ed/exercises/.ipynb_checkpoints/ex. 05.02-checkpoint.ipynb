{
 "cells": [
  {
   "cell_type": "markdown",
   "metadata": {},
   "source": [
    "# Exercise 05.02"
   ]
  },
  {
   "cell_type": "markdown",
   "metadata": {},
   "source": [
    "## Problem:"
   ]
  },
  {
   "cell_type": "markdown",
   "metadata": {},
   "source": [
    "**[Purpose: Getting an intuition for the previous results by using “natural frequency” and “Markov” representations]**\n",
    "\n",
    "(A) Suppose that the population consists of 100,000 people. Compute how many people would be expected to fall into each cell of Table 5.4. To compute the expected frequency of people in a cell, just multiply the cell probability by the size of the population. To get you started, a few of the cells of the frequency table are filled in the textbook. Notice the frequencies on the lower margin of the table. They indicate that out of 100,000 people, only 100 have the disease, while 99,900 do not have the disease. These marginal frequencies instantiate the prior probability that p(θ = +) = 0.001. Notice also the cell frequencies in the column θ = +, which indicate that of 100 people with the disease, 99 have a positive test result and 1 has a negative test result. These cell frequencies instantiate the hit rate of 0.99. Your job for this part of the exercise is to fill in the frequencies of the remaining cells of the table.\n",
    "\n",
    "(B) Take a good look at the frequencies in the table you just computed for the previous part. These are the so-called “natural frequencies” of the events, as opposed to the somewhat unintuitive expression in terms of conditional probabilities (Gigerenzer & Hoffrage, 1995). From the cell frequencies alone, determine the proportion of people who have the disease, given that their test result is positive. Before computing the exact answer arithmetically, first give a rough intuitive answer merely by looking at the relative frequencies in the row T = +. Does your intuitive answer match the intuitive answer you provided when originally reading about Table 5.4? Probably not. Your intuitive answer here is probably much closer to the correct answer. Now compute the exact answer arithmetically. It should match the result from applying Bayes’ rule in Table 5.4.\n",
    "\n",
    "(C) Now we’ll consider a related representation of the probabilities in terms of natural frequencies, which is especially useful when we accumulate more data. This type of representation is called a “Markov” representation by Krauss, Martignon, and Hoffrage (1999). Suppose now we start with a population of N = 10, 000, 000 people. We expect 99.9% of them (i.e., 9,990,000) not to have the disease, and just 0.1% (i.e., 10,000) to have the disease. Now consider how many people we expect to test positive. Of the 10,000 people who have the disease, 99%, (i.e., 9,900) will be expected to test positive. Of the 9,990,000 people who do not have the disease, 5% (i.e., 499,500) will be expected to test positive. Now consider re-testing everyone who has tested positive on the first test. How many of them are expected to show a negative result on the retest? Use the diagram in the textbook to compute your answer. When computing the frequencies for the empty boxes above, be careful to use the proper conditional probabilities!\n",
    "\n",
    "(D) Use the diagram in the previous part to answer this: What proportion of people, who test positive at first and then negative on retest, actually have the disease? In other words, of the total number of people at the bottom of the diagram in the previous part (those are the people who tested positive then negative), what proportion of them are in the left branch of the tree? How does the result compare with your answer to Exercise 5.1?"
   ]
  },
  {
   "cell_type": "markdown",
   "metadata": {},
   "source": [
    "## Solution:"
   ]
  },
  {
   "cell_type": "markdown",
   "metadata": {},
   "source": [
    "#### A."
   ]
  },
  {
   "cell_type": "markdown",
   "metadata": {},
   "source": [
    "Table 5.4 is copied here:\n",
    "\n",
    "<table>\n",
    "    <th>\n",
    "        <td>Disease Present</td>\n",
    "        <td>Disease Absent</td>\n",
    "        <td>Marginal (test result)</td>\n",
    "    </th>\n",
    "    <tr>\n",
    "        <td>Positive Test</td>\n",
    "        <td>0.00099</td>\n",
    "        <td>0.04995</td>\n",
    "        <td>**0.05094**</td>\n",
    "    </tr>\n",
    "    <tr>\n",
    "        <td>Negative Test</td>\n",
    "        <td>0.00001</td>\n",
    "        <td>0.94905</td>\n",
    "        <td>**0.94906**</td>\n",
    "    </tr>\n",
    "    <tr>\n",
    "        <td>Marginal (disease presence)</td>\n",
    "        <td>**0.00100**</td>\n",
    "        <td>**0.99900**</td>\n",
    "        <td>**1.00000**</td>\n",
    "    </tr>\n",
    "</table>\n",
    "\n",
    "To calculate the expected cell frequencies, multiply every probability value in the table with N, N being 100,000 people. The calculations are done in R:"
   ]
  },
  {
   "cell_type": "code",
   "execution_count": 3,
   "metadata": {},
   "outputs": [
    {
     "name": "stdout",
     "output_type": "stream",
     "text": [
      "     [,1]  [,2]   [,3]\n",
      "[1,]   99  4995   5094\n",
      "[2,]    1 94905  94906\n",
      "[3,]  100 99900 100000\n"
     ]
    }
   ],
   "source": [
    "pJointDens = matrix(\n",
    "                    c(0.00099, 0.04995, 0.05094, 0.00001, 0.94905, 0.94906, 0.00100, 0.99900, 1.00000)\n",
    "                    , nrow = 3, ncol = 3, byrow = TRUE)\n",
    "\n",
    "N = 100000\n",
    "\n",
    "pCellFreq = pJointDens*N\n",
    "print(pCellFreq)"
   ]
  },
  {
   "cell_type": "markdown",
   "metadata": {},
   "source": [
    "#### B."
   ]
  },
  {
   "cell_type": "markdown",
   "metadata": {},
   "source": [
    "According to the original assumptions, 99% of the people who test positive have the disease. Looking at the relative frequencies, 99 people who tested positive have the disease while 4,995 people who tested positive do not. These frequencies do not match the expected frequencies given our initial assumption.\n",
    "\n",
    "The actual proportion is calculated in R:"
   ]
  },
  {
   "cell_type": "code",
   "execution_count": 4,
   "metadata": {},
   "outputs": [
    {
     "name": "stdout",
     "output_type": "stream",
     "text": [
      "[1] 0.01943463\n"
     ]
    }
   ],
   "source": [
    "propDPos_TPos = pCellFreq[1, 1]/pCellFreq[1, 3]\n",
    "print(propDPos_TPos)"
   ]
  },
  {
   "cell_type": "markdown",
   "metadata": {},
   "source": [
    "This value matches the value we calculated in ex. 05.01 using Bayes' Theorem."
   ]
  },
  {
   "cell_type": "markdown",
   "metadata": {},
   "source": [
    "#### C."
   ]
  },
  {
   "cell_type": "markdown",
   "metadata": {},
   "source": [
    "Given that $N = 10,000,000$ and the percentage of people in the population with the disease is 99.9%, we expect $p(\\text{D} \\, = \\, \\text{positive}) \\times N = 10,000$ and $p(\\text{D} \\, = \\, \\text{negative}) \\times N = 9,990,000$.\n",
    "\n",
    "The amount of people who test positive given the disease are:\n",
    "\n",
    "\\begin{equation*}\n",
    "p(\\text{T} \\, = \\, \\text{positive} \\, | \\, \\text{D} \\, = \\, \\text{positive}) \\times p(\\text{D} \\, = \\, \\text{positive}) \\times N = 0.99 \\times 10000 = 9900\n",
    "\\end{equation*}\n",
    "\n",
    "The amount of people who re-test negative given the disease are:\n",
    "\n",
    "\\begin{equation*}\n",
    "p(\\text{T} \\, = \\, \\text{negative} \\, | \\, \\text{D} \\, = \\, \\text{positive}) \\times p(\\text{T} \\, = \\, \\text{positive} \\, | \\, \\text{D} \\, = \\, \\text{positive}) \\times p(\\text{D} \\, = \\, \\text{positive}) \\times N = 0.01 \\times 9900 = 99\n",
    "\\end{equation*}\n",
    "\n",
    "The amount of people who test positive given no disease are:\n",
    "\n",
    "\\begin{equation*}\n",
    "p(\\text{T} \\, = \\, \\text{positive} \\, | \\, \\text{D} \\, = \\, \\text{negative}) \\times p(\\text{D} \\, = \\, \\text{negative}) \\times N = 0.05 \\times 9990000 = 499500\n",
    "\\end{equation*}\n",
    "\n",
    "The amount of people who re-test negative given no disease are:\n",
    "\n",
    "\\begin{equation*}\n",
    "p(\\text{T} \\, = \\, \\text{negative} \\, | \\, \\text{D} \\, = \\, \\text{negative}) \\times p(\\text{T} \\, = \\, \\text{positive} \\, | \\, \\text{D} \\, = \\, \\text{negative}) \\times p(\\text{D} \\, = \\, \\text{negative}) \\times N = 0.95 \\times 499500 = 474525\n",
    "\\end{equation*}"
   ]
  },
  {
   "cell_type": "markdown",
   "metadata": {},
   "source": [
    "#### D."
   ]
  },
  {
   "cell_type": "markdown",
   "metadata": {},
   "source": [
    "The amount of people who re-test negative who actually have the disease are:"
   ]
  },
  {
   "cell_type": "code",
   "execution_count": 6,
   "metadata": {},
   "outputs": [
    {
     "name": "stdout",
     "output_type": "stream",
     "text": [
      "[1] 0.0002085862\n"
     ]
    }
   ],
   "source": [
    "print(99/(474525 + 99))"
   ]
  },
  {
   "cell_type": "markdown",
   "metadata": {},
   "source": [
    "This is the same answer as given in ex. 05.01, as to be expected."
   ]
  }
 ],
 "metadata": {
  "kernelspec": {
   "display_name": "R",
   "language": "R",
   "name": "ir"
  },
  "language_info": {
   "codemirror_mode": "r",
   "file_extension": ".r",
   "mimetype": "text/x-r-source",
   "name": "R",
   "pygments_lexer": "r",
   "version": "3.4.1"
  }
 },
 "nbformat": 4,
 "nbformat_minor": 2
}
