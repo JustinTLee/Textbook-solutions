{
 "cells": [
  {
   "cell_type": "markdown",
   "metadata": {},
   "source": [
    "# Exercise 04.01"
   ]
  },
  {
   "cell_type": "markdown",
   "metadata": {},
   "source": [
    "## Problem:"
   ]
  },
  {
   "cell_type": "markdown",
   "metadata": {},
   "source": [
    "**[Purpose: To gain experience with the apply function in R, while dealing with a concrete example of computing conditional probabilities.]**\n",
    "\n",
    "The eye-color hair-color data from Table 4.1 are built into R as the array named HairEyeColor. The array is frequencies of eye and hair color for males and females.\n",
    "\n",
    "Run the following code in R:\n",
    "\n",
    "```\n",
    "show( HairEyeColor ) # Show data\n",
    "EyeHairFreq = apply( HairEyeColor, c(\"Eye\",\"Hair\"), sum ) # Sum across sex\n",
    "EyeHairProp = EyeHairFreq / sum( EyeHairFreq ) # joint proportions, Table 4.1\n",
    "show( round( EyeHairProp , 2 ) )\n",
    "HairFreq = apply( HairEyeColor , c(\"Hair\") , sum ) # Sum across sex and eye\n",
    "HairProp = HairFreq / sum( HairFreq ) # marginal proportions, Table 4.1\n",
    "show( round( HairProp , 2 ) )\n",
    "EyeFreq = apply( HairEyeColor , c(\"Eye\") , sum ) # Sum across sex and eye\n",
    "EyeProp = EyeFreq / sum( EyeFreq ) # marginal proportions, Table 4.1\n",
    "show( round( EyeProp , 2 ) )\n",
    "EyeHairProp[\"Blue\",] / EyeProp[\"Blue\"] # conditional prob, Table 4.2\n",
    "```\n",
    "\n",
    "In your write-up, include each line above and its results. Explain what each line does (in a bit more detail than the inline comments). Extend the above commands by also computing the probabilities of the hair colors given Brown eyes, and the probabilities of the eye colors given Brown hair."
   ]
  },
  {
   "cell_type": "markdown",
   "metadata": {},
   "source": [
    "## Solution:"
   ]
  },
  {
   "cell_type": "code",
   "execution_count": 6,
   "metadata": {},
   "outputs": [
    {
     "name": "stdout",
     "output_type": "stream",
     "text": [
      ", , Sex = Male\n",
      "\n",
      "       Eye\n",
      "Hair    Brown Blue Hazel Green\n",
      "  Black    32   11    10     3\n",
      "  Brown    53   50    25    15\n",
      "  Red      10   10     7     7\n",
      "  Blond     3   30     5     8\n",
      "\n",
      ", , Sex = Female\n",
      "\n",
      "       Eye\n",
      "Hair    Brown Blue Hazel Green\n",
      "  Black    36    9     5     2\n",
      "  Brown    66   34    29    14\n",
      "  Red      16    7     7     7\n",
      "  Blond     4   64     5     8\n",
      "\n",
      "       Hair\n",
      "Eye     Black Brown  Red Blond\n",
      "  Brown  0.11  0.20 0.04  0.01\n",
      "  Blue   0.03  0.14 0.03  0.16\n",
      "  Hazel  0.03  0.09 0.02  0.02\n",
      "  Green  0.01  0.05 0.02  0.03\n",
      "Black Brown   Red Blond \n",
      " 0.18  0.48  0.12  0.21 \n",
      "Brown  Blue Hazel Green \n",
      " 0.37  0.36  0.16  0.11 \n"
     ]
    },
    {
     "data": {
      "text/html": [
       "<dl class=dl-horizontal>\n",
       "\t<dt>Black</dt>\n",
       "\t\t<dd>0.0930232558139535</dd>\n",
       "\t<dt>Brown</dt>\n",
       "\t\t<dd>0.390697674418605</dd>\n",
       "\t<dt>Red</dt>\n",
       "\t\t<dd>0.0790697674418605</dd>\n",
       "\t<dt>Blond</dt>\n",
       "\t\t<dd>0.437209302325581</dd>\n",
       "</dl>\n"
      ],
      "text/latex": [
       "\\begin{description*}\n",
       "\\item[Black] 0.0930232558139535\n",
       "\\item[Brown] 0.390697674418605\n",
       "\\item[Red] 0.0790697674418605\n",
       "\\item[Blond] 0.437209302325581\n",
       "\\end{description*}\n"
      ],
      "text/markdown": [
       "Black\n",
       ":   0.0930232558139535Brown\n",
       ":   0.390697674418605Red\n",
       ":   0.0790697674418605Blond\n",
       ":   0.437209302325581\n",
       "\n"
      ],
      "text/plain": [
       "     Black      Brown        Red      Blond \n",
       "0.09302326 0.39069767 0.07906977 0.43720930 "
      ]
     },
     "metadata": {},
     "output_type": "display_data"
    },
    {
     "data": {
      "text/html": [
       "<dl class=dl-horizontal>\n",
       "\t<dt>Black</dt>\n",
       "\t\t<dd>0.309090909090909</dd>\n",
       "\t<dt>Brown</dt>\n",
       "\t\t<dd>0.540909090909091</dd>\n",
       "\t<dt>Red</dt>\n",
       "\t\t<dd>0.118181818181818</dd>\n",
       "\t<dt>Blond</dt>\n",
       "\t\t<dd>0.0318181818181818</dd>\n",
       "</dl>\n"
      ],
      "text/latex": [
       "\\begin{description*}\n",
       "\\item[Black] 0.309090909090909\n",
       "\\item[Brown] 0.540909090909091\n",
       "\\item[Red] 0.118181818181818\n",
       "\\item[Blond] 0.0318181818181818\n",
       "\\end{description*}\n"
      ],
      "text/markdown": [
       "Black\n",
       ":   0.309090909090909Brown\n",
       ":   0.540909090909091Red\n",
       ":   0.118181818181818Blond\n",
       ":   0.0318181818181818\n",
       "\n"
      ],
      "text/plain": [
       "     Black      Brown        Red      Blond \n",
       "0.30909091 0.54090909 0.11818182 0.03181818 "
      ]
     },
     "metadata": {},
     "output_type": "display_data"
    },
    {
     "data": {
      "text/html": [
       "<dl class=dl-horizontal>\n",
       "\t<dt>Brown</dt>\n",
       "\t\t<dd>0.416083916083916</dd>\n",
       "\t<dt>Blue</dt>\n",
       "\t\t<dd>0.293706293706294</dd>\n",
       "\t<dt>Hazel</dt>\n",
       "\t\t<dd>0.188811188811189</dd>\n",
       "\t<dt>Green</dt>\n",
       "\t\t<dd>0.101398601398601</dd>\n",
       "</dl>\n"
      ],
      "text/latex": [
       "\\begin{description*}\n",
       "\\item[Brown] 0.416083916083916\n",
       "\\item[Blue] 0.293706293706294\n",
       "\\item[Hazel] 0.188811188811189\n",
       "\\item[Green] 0.101398601398601\n",
       "\\end{description*}\n"
      ],
      "text/markdown": [
       "Brown\n",
       ":   0.416083916083916Blue\n",
       ":   0.293706293706294Hazel\n",
       ":   0.188811188811189Green\n",
       ":   0.101398601398601\n",
       "\n"
      ],
      "text/plain": [
       "    Brown      Blue     Hazel     Green \n",
       "0.4160839 0.2937063 0.1888112 0.1013986 "
      ]
     },
     "metadata": {},
     "output_type": "display_data"
    }
   ],
   "source": [
    "# original lines\n",
    "show(HairEyeColor)\n",
    "EyeHairFreq = apply(HairEyeColor, c(\"Eye\", \"Hair\"), sum) # Sum across sex\n",
    "EyeHairProp = EyeHairFreq / sum(EyeHairFreq)             # joint distribution of eye and hair color\n",
    "show(round(EyeHairProp, 2))\n",
    "HairFreq = apply(HairEyeColor, c(\"Hair\"), sum)           # sum across sex and eye\n",
    "HairProp = HairFreq / sum(HairFreq)                      # marginal proportions of hair color\n",
    "show(round(HairProp, 2))\n",
    "EyeFreq = apply(HairEyeColor, c(\"Eye\"), sum)             # sum across sex and hair\n",
    "EyeProp = EyeFreq / sum(EyeFreq)                         # marginal proportions of eye color\n",
    "show(round(EyeProp, 2))\n",
    "EyeHairProp[\"Blue\",] / EyeProp[\"Blue\"]                   # conditional probability of hair color given blue eyes\n",
    "\n",
    "# newly added lines\n",
    "EyeHairProp[\"Brown\", ] / EyeProp[\"Brown\"]                # conditional probability of hair color given brown eyes\n",
    "EyeHairProp[, \"Brown\"] / HairProp[\"Brown\"]               # conditional probability of eye color given brown hair"
   ]
  }
 ],
 "metadata": {
  "kernelspec": {
   "display_name": "R",
   "language": "R",
   "name": "ir"
  },
  "language_info": {
   "codemirror_mode": "r",
   "file_extension": ".r",
   "mimetype": "text/x-r-source",
   "name": "R",
   "pygments_lexer": "r",
   "version": "3.4.1"
  }
 },
 "nbformat": 4,
 "nbformat_minor": 2
}
