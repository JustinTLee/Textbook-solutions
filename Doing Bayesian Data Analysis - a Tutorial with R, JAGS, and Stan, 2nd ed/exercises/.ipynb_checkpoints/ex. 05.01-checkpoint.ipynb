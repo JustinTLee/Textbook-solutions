{
 "cells": [
  {
   "cell_type": "markdown",
   "metadata": {},
   "source": [
    "# Exercise 05.01"
   ]
  },
  {
   "cell_type": "markdown",
   "metadata": {},
   "source": [
    "## Problem:"
   ]
  },
  {
   "cell_type": "markdown",
   "metadata": {},
   "source": [
    "**[Purpose: Iterative application of Bayes’ rule, and seeing how posterior probabilities change with inclusion of more data.]**\n",
    "\n",
    "This exercise extends the ideas of Table 5.4, so at this time, please review Table 5.4 and its discussion in the text. Suppose that the same randomly selected person as in Table 5.4 gets re-tested after the first test result was positive, and on the re-test, the result is negative. When taking into account the results of both tests, what is the probability that the person has the disease? Hint: For the prior probability of the re-test, use the posterior computed from the Table 5.4. Retain as many decimal places as possible, as rounding can have a surprisingly big effect on the results. One way to avoid unnecessary rounding is to do the calculations in R."
   ]
  },
  {
   "cell_type": "markdown",
   "metadata": {},
   "source": [
    "## Solution:"
   ]
  },
  {
   "cell_type": "markdown",
   "metadata": {},
   "source": [
    "The following conditional probabilities are given of the treatment results given disease presence:\n",
    "\n",
    "\\begin{align*}\n",
    "p(\\text{T} \\, = \\, \\text{positive} \\, | \\, \\text{D} \\, = \\, \\text{positive}) &= 0.99 \\\\\n",
    "p(\\text{T} \\, = \\, \\text{negative} \\, | \\, \\text{D} \\, = \\, \\text{positive}) &= 0.01 \\\\\n",
    "p(\\text{T} \\, = \\, \\text{positive} \\, | \\, \\text{D} \\, = \\, \\text{negative}) &= 0.05 \\\\\n",
    "p(\\text{T} \\, = \\, \\text{negative} \\, | \\, \\text{D} \\, = \\, \\text{negative}) &= 0.95 \\\\\n",
    "\\end{align*}\n",
    "\n",
    "They are represented in the following equations:"
   ]
  },
  {
   "cell_type": "code",
   "execution_count": 2,
   "metadata": {},
   "outputs": [],
   "source": [
    "# probability of T = + given D = +\n",
    "pTPos_DPos = 0.99\n",
    "\n",
    "# probability of T = - given D = +\n",
    "pTNeg_DPos = 0.01\n",
    "\n",
    "# probability of T = + given D = -\n",
    "pTPos_DNeg = 0.05\n",
    "\n",
    "# probability of T = - given D = -\n",
    "pTNeg_DNeg = 0.95\n",
    "\n",
    "# background probability of D = +\n",
    "pDPos = 0.001\n",
    "\n",
    "# background probability of D = -\n",
    "pDNeg = 1 - pDPos"
   ]
  },
  {
   "cell_type": "markdown",
   "metadata": {},
   "source": [
    "Table 5.4 gives the following information as the joint distribution of the test results and disease presence:\n",
    "\n",
    "<table>\n",
    "    <th>\n",
    "        <td>Disease Present</td>\n",
    "        <td>Disease Absent</td>\n",
    "        <td>Marginal (test result)</td>\n",
    "    </th>\n",
    "    <tr>\n",
    "        <td>Positive Test</td>\n",
    "        <td>0.00099</td>\n",
    "        <td>0.04995</td>\n",
    "        <td>**0.05094**</td>\n",
    "    </tr>\n",
    "    <tr>\n",
    "        <td>Negative Test</td>\n",
    "        <td>0.00001</td>\n",
    "        <td>0.94905</td>\n",
    "        <td>**0.94906**</td>\n",
    "    </tr>\n",
    "    <tr>\n",
    "        <td>Marginal (disease presence)</td>\n",
    "        <td>**0.00100**</td>\n",
    "        <td>**0.99900**</td>\n",
    "        <td>**1.00000**</td>\n",
    "    </tr>\n",
    "</table>"
   ]
  },
  {
   "cell_type": "markdown",
   "metadata": {},
   "source": [
    "The probability that an individual has the disease given that the test was positive is given by the following equation:\n",
    "\n",
    "\\begin{equation}\n",
    "p(\\text{D} \\, = \\, \\text{positive} \\, | \\, \\text{T} \\, = \\, \\text{positive}) = \\frac{p(\\text{T} \\, = \\, \\text{positive} \\, | \\, \\text{D} \\, = \\, \\text{positive}) p(\\text{D} \\, = \\, \\text{positive})}{p(\\text{T} \\, = \\, \\text{positive})}\n",
    "\\end{equation}\n",
    "\n",
    "The following calculation can be performed in R:"
   ]
  },
  {
   "cell_type": "code",
   "execution_count": 3,
   "metadata": {},
   "outputs": [
    {
     "name": "stdout",
     "output_type": "stream",
     "text": [
      "[1] 0.01943463\n"
     ]
    }
   ],
   "source": [
    "# T = + is the sum of p(T = +, D = +) and p(T = +, D = -)\n",
    "pTPos = pTPos_DPos*pDPos + pTPos_DNeg*pDNeg\n",
    "\n",
    "pDPos_TPos = pTPos_DPos*pDPos/pTPos\n",
    "print(pDPos_TPos)"
   ]
  },
  {
   "cell_type": "markdown",
   "metadata": {},
   "source": [
    "Assume that the $p(\\text{D} \\, = \\, \\text{positive} \\, | \\, \\text{T} \\, = \\, \\text{positive})$ that was just calculated is now the new $p(\\text{D} \\, = \\, \\text{positive})$ value. That is, the posterior becomes the next prior. Now:\n",
    "\n",
    "\\begin{equation*}\n",
    "p(\\text{D} \\, = \\, \\text{negative}) = 1 - p(\\text{D} \\, = \\, \\text{positive})\n",
    "\\end{equation*}\n",
    "\n",
    "Finding the new posterior can be performed in R:"
   ]
  },
  {
   "cell_type": "code",
   "execution_count": 4,
   "metadata": {},
   "outputs": [
    {
     "name": "stdout",
     "output_type": "stream",
     "text": [
      "[1] 0.0002085862\n"
     ]
    }
   ],
   "source": [
    "# set the posterior as the new prior\n",
    "pDPos2 = pDPos_TPos\n",
    "pDNeg2 = pTPos_DNeg*pDNeg/pTPos\n",
    "\n",
    "# T = + is the sum of p(T = +, D = +) and p(T = +, D = -)\n",
    "pTNeg2 = pTNeg_DPos*pDPos2 + pTNeg_DNeg*pDNeg2\n",
    "\n",
    "pDPos_TNeg2 = pTNeg_DPos*pDPos2/pTNeg2\n",
    "print(pDPos_TNeg2)"
   ]
  }
 ],
 "metadata": {
  "kernelspec": {
   "display_name": "R",
   "language": "R",
   "name": "ir"
  },
  "language_info": {
   "codemirror_mode": "r",
   "file_extension": ".r",
   "mimetype": "text/x-r-source",
   "name": "R",
   "pygments_lexer": "r",
   "version": "3.4.1"
  }
 },
 "nbformat": 4,
 "nbformat_minor": 2
}
