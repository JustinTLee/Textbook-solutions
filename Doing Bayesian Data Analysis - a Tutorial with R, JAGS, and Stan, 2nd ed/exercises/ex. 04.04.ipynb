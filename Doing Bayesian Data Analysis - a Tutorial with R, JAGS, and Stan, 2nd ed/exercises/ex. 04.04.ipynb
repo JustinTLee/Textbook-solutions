{
 "cells": [
  {
   "cell_type": "markdown",
   "metadata": {},
   "source": [
    "# Exercise 04.04"
   ]
  },
  {
   "cell_type": "markdown",
   "metadata": {},
   "source": [
    "## Problem:"
   ]
  },
  {
   "cell_type": "markdown",
   "metadata": {},
   "source": [
    "**[Purpose: To give you hands-on experience with a simple probability density function, in R and in calculus, and to reemphasize that density functions can have values larger than 1.]**\n",
    "\n",
    "Consider a spinner with a $[0,1]$ scale on its circumference. Suppose that the spinner is slanted or magnetized or bent in sme way such that it is biased, and its probability density function is $p(x) = 6x(1 − x)$ over the interval x ∈ [0, 1].\n",
    "\n",
    "(A) Adapt the program IntegralOfDensity.R to plot this density function and approximate its integral. Comment your code. Be careful to consider values of x only in the interval [0, 1]. Hint: You can omit the first couple of lines regarding meanval and sdval, because those parameter values pertain only to the normal distribution. Then set xlow=0 and xhigh=1, and set dx to some small value. <br/>\n",
    "(B) Derive the exact integral using calculus. Hint: See the example, Equation 4.7.  <br/>\n",
    "(C) Does this function satisfy Equation 4.3? <br/>\n",
    "(D) From inspecting the graph, what is the maximal value of p(x)?"
   ]
  },
  {
   "cell_type": "markdown",
   "metadata": {},
   "source": [
    "## Solution:"
   ]
  },
  {
   "cell_type": "markdown",
   "metadata": {},
   "source": [
    "#### A."
   ]
  },
  {
   "cell_type": "code",
   "execution_count": 5,
   "metadata": {},
   "outputs": [
    {
     "name": "stdout",
     "output_type": "stream",
     "text": [
      "\n",
      "*********************************************************************\n",
      "Kruschke, J. K. (2015). Doing Bayesian Data Analysis, Second Edition:\n",
      "A Tutorial with R, JAGS, and Stan. Academic Press / Elsevier.\n",
      "*********************************************************************\n",
      "\n"
     ]
    },
    {
     "name": "stderr",
     "output_type": "stream",
     "text": [
      "Warning message in install.packages(want[!have]):\n",
      "“installation of package ‘rjags’ had non-zero exit status”Warning message in install.packages(want[!have]):\n",
      "“installation of package ‘runjags’ had non-zero exit status”Updating HTML index of packages in '.Library'\n",
      "Making 'packages.html' ... done\n"
     ]
    },
    {
     "data": {
      "image/png": "[encoded data removed]",
      "text/plain": [
       "Plot with title “Probability density p(x)”"
      ]
     },
     "metadata": {},
     "output_type": "display_data"
    }
   ],
   "source": [
    "source(\"../DBDA2Eprograms/DBDA2E-utilities.R\")\n",
    "\n",
    "xlow = 0   # lower bound of distribution\n",
    "xhigh = 1  # upper bound of distribution\n",
    "dx = 0.01  # step size\n",
    "\n",
    "x = seq(from = xlow, to = xhigh, by = dx)  # create point comb\n",
    "\n",
    "y = 6*x*(1 - x)  # PDF of specified distribution\n",
    "\n",
    "plot(x, y, type = \"h\", lwd = 1,\n",
    "     main = \"Probability density p(x)\",\n",
    "     xlab = \"x\",\n",
    "     ylab = \"p(x)\")\n",
    "\n",
    "area = sum(dx * y)\n",
    "\n",
    "text(0.8, 1.5, bquote(paste(sum(, x,) , \" \", Delta, \"x p(x) = \", .(signif(area, 3)))))"
   ]
  },
  {
   "cell_type": "markdown",
   "metadata": {},
   "source": [
    "#### B."
   ]
  },
  {
   "cell_type": "markdown",
   "metadata": {},
   "source": [
    "The cumulative probability distribution of $p(x)$ is:\n",
    "\n",
    "\\begin{align*}\n",
    "\\int_{0}^{1} p(x) \\; dx &= \\int_{0}^{1} 6x(1 - x) \\; dx \\\\\n",
    "&= 6 \\left( \\int_{0}^{1} x - x^{2} \\; dx \\right) \\\\\n",
    "&= 6 \\left( \\int_{0}^{1} x \\; dx - \\int_{0}^{1} x^{2} \\; dx \\right) \\\\\n",
    "&= 6 \\left[\\frac{x^{2}}{2} \\, \\middle|_{0}^{1} \\right] - 6 \\left[\\frac{x^{3}}{3} \\, \\middle|_{0}^{1} \\right] \\\\\n",
    "&= 6 \\left[ \\frac{(1)^{2} - (0)^{2}}{2} \\right] - 6 \\left[ \\frac{(1)^{2} - (0)^{2}}{3} \\right] \\\\\n",
    "&= 6 \\left[ \\frac{1}{2} \\right] - 6 \\left[ \\frac{1}{3} \\right] \\\\\n",
    "&= 3 - 2 \\\\\n",
    "&= 1 \\\\\n",
    "\\end{align*}"
   ]
  },
  {
   "cell_type": "markdown",
   "metadata": {},
   "source": [
    "#### C."
   ]
  },
  {
   "cell_type": "markdown",
   "metadata": {},
   "source": [
    "Yes, the integral of the PDF across all possible values equals unity $\\left(\\int_{0}^{1} p(x) \\; dx = 1 \\right)$."
   ]
  },
  {
   "cell_type": "markdown",
   "metadata": {},
   "source": [
    "#### D."
   ]
  },
  {
   "cell_type": "code",
   "execution_count": 10,
   "metadata": {},
   "outputs": [
    {
     "data": {
      "text/html": [
       "'The value of x where p(x) is the max is found at x = 0.5 .'"
      ],
      "text/latex": [
       "'The value of x where p(x) is the max is found at x = 0.5 .'"
      ],
      "text/markdown": [
       "'The value of x where p(x) is the max is found at x = 0.5 .'"
      ],
      "text/plain": [
       "[1] \"The value of x where p(x) is the max is found at x = 0.5 .\""
      ]
     },
     "metadata": {},
     "output_type": "display_data"
    }
   ],
   "source": [
    "paste(\"The value of x where p(x) is the max is found at x =\", x[which.max(y)], \".\")"
   ]
  }
 ],
 "metadata": {
  "kernelspec": {
   "display_name": "R",
   "language": "R",
   "name": "ir"
  },
  "language_info": {
   "codemirror_mode": "r",
   "file_extension": ".r",
   "mimetype": "text/x-r-source",
   "name": "R",
   "pygments_lexer": "r",
   "version": "3.4.1"
  }
 },
 "nbformat": 4,
 "nbformat_minor": 2
}
